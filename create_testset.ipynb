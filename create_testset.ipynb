{
 "cells": [
  {
   "cell_type": "code",
   "execution_count": 7,
   "id": "initial_id",
   "metadata": {
    "ExecuteTime": {
     "end_time": "2024-10-30T15:00:03.805506Z",
     "start_time": "2024-10-30T15:00:03.800954Z"
    },
    "collapsed": true
   },
   "outputs": [],
   "source": [
    "import google.generativeai as genai\n",
    "import pandas as pd\n",
    "import json\n",
    "from tqdm import tqdm\n",
    "from langchain.prompts.chat import (ChatPromptTemplate, HumanMessagePromptTemplate)\n",
    "import time\n",
    "\n",
    "N_GENERATIONS = 10"
   ]
  },
  {
   "cell_type": "code",
   "execution_count": 8,
   "id": "6b2003d85f3ba31a",
   "metadata": {
    "ExecuteTime": {
     "end_time": "2024-10-30T15:00:22.538086Z",
     "start_time": "2024-10-30T15:00:22.532931Z"
    },
    "collapsed": false
   },
   "outputs": [],
   "source": [
    "with open(\"api_keys.json\") as f:\n",
    "    api_keys = json.load(f)\n",
    "    gemini_api_key = api_keys[\"gemini\"]\n",
    "genai.configure(api_key=gemini_api_key)\n",
    "model = genai.GenerativeModel(model_name='gemini-1.5-flash')"
   ]
  },
  {
   "cell_type": "code",
   "execution_count": 9,
   "id": "97b3b975046f7ccc",
   "metadata": {
    "ExecuteTime": {
     "end_time": "2024-10-30T15:00:27.863405Z",
     "start_time": "2024-10-30T15:00:27.859307Z"
    },
    "collapsed": false
   },
   "outputs": [],
   "source": [
    "QA_generation_prompt = \"\"\"\n",
    "Your task is to write a factoid question and an answer based on the given Terms and Conditions (T&C) context.\n",
    "Your factoid question should target specific clauses, rights, obligations, or policies from the context, focusing on key details that a user may seek clarity on.\n",
    "Make sure your factoid question resembles the type of questions a user might ask when seeking information about T&C, and make sure you incorporate the company name in the question such as \"What is the policy on returns in <company name>?\" or \"How are user data stored in <company name>?\"\n",
    "\n",
    "Avoid references to \"the passage\" or \"context\" in your question and avoid directing reader to the documents for more information.\n",
    "\n",
    "Provide your answer as follows:\n",
    "\n",
    "Factoid question: (your factoid question)\n",
    "Answer: (your detailed and precise answer to the factoid question)\n",
    "\n",
    "Now here is the context.\n",
    "\n",
    "Context: {context}\n",
    "\"\"\"\n",
    "\n",
    "prompt_template = ChatPromptTemplate.from_messages([HumanMessagePromptTemplate.from_template(QA_generation_prompt)])"
   ]
  },
  {
   "cell_type": "code",
   "execution_count": 10,
   "id": "1d99361255821b13",
   "metadata": {
    "ExecuteTime": {
     "end_time": "2024-10-30T15:00:30.089596Z",
     "start_time": "2024-10-30T15:00:30.086086Z"
    },
    "collapsed": false
   },
   "outputs": [],
   "source": [
    "def call_llm(model, prompt):\n",
    "    response = model.generate_content(prompt)\n",
    "    return response.text"
   ]
  },
  {
   "cell_type": "code",
   "execution_count": 11,
   "id": "b642f5982173e0c7",
   "metadata": {
    "ExecuteTime": {
     "end_time": "2024-10-30T15:00:31.345108Z",
     "start_time": "2024-10-30T15:00:31.216096Z"
    },
    "collapsed": false
   },
   "outputs": [],
   "source": [
    "documents = pd.read_csv('documents.csv')"
   ]
  },
  {
   "cell_type": "code",
   "execution_count": 42,
   "id": "4ee98ac4dee7146f",
   "metadata": {
    "ExecuteTime": {
     "end_time": "2024-10-30T15:11:27.611298Z",
     "start_time": "2024-10-30T15:11:11.723242Z"
    },
    "collapsed": false
   },
   "outputs": [
    {
     "name": "stderr",
     "output_type": "stream",
     "text": [
      "1it [00:02,  2.57s/it]"
     ]
    },
    {
     "name": "stdout",
     "output_type": "stream",
     "text": [
      "Factoid question: What is the policy regarding the posting of ads for real estate on Bazaraki?\n",
      "Answer: Bazaraki allows ads for properties located only within the Republic of Cyprus. They act as an advertising platform and are not a licensed real estate agent, meaning they do not assist with any transactions related to real estate. Only owners of real estate, developers, agents, legal representatives of owners with a Power of Attorney, and first-degree relatives of owners can list real estate on Bazaraki. Bazaraki is not obligated to review or control any person or organization posting ads on their platform. They do not arrange viewings for listed properties and the information provided is purely for informational purposes, not constituting an offer or invitation to sell or rent real estate. Additionally, Bazaraki may, at their discretion, remove or decline to display any information or ad that does not comply with their terms and conditions. They may require the information to be amended if they believe a user is in breach of the terms or applicable law. Bazaraki reserves the right to charge additional fees for listings if they believe an ad is in breach of their terms. Lastly, Bazaraki does not monitor or censor the information or ads posted on their platform and is not responsible for any errors or omissions in the provided information. \n"
     ]
    },
    {
     "name": "stderr",
     "output_type": "stream",
     "text": [
      "2it [00:04,  1.94s/it]"
     ]
    },
    {
     "name": "stdout",
     "output_type": "stream",
     "text": [
      "Factoid question: What is the policy regarding returns and refunds for items purchased through ZVAB?\n",
      "Answer: ZVAB sellers are obligated to accept returns from customers in accordance with the return policies outlined in the Seller Policies.  Refunds for returned items paid for through the External Payment Service Provider are managed by AbeBooks.  ZVAB sellers will either be invoiced for refunds or AbeBooks will debit refunds against the proceeds due from the External Payment Service Provider. ZVAB sellers are prohibited from charging restocking or similar fees in connection with returns and/or refunds. \n"
     ]
    },
    {
     "name": "stderr",
     "output_type": "stream",
     "text": [
      "3it [00:05,  1.64s/it]"
     ]
    },
    {
     "name": "stdout",
     "output_type": "stream",
     "text": [
      "Factoid question: What happens to my Xiaomi Account if I don't use it for two years?\n",
      "Answer: If you haven't used your Xiaomi Account for 24 consecutive months or haven't signed in using other approved methods, Xiaomi has the right to cancel your account. This means you'll lose access to the account and related services. However, Xiaomi will provide reasonable assistance with pending transactions or balances associated with the account. You should follow Xiaomi's instructions and notifications for this process. \n"
     ]
    },
    {
     "name": "stderr",
     "output_type": "stream",
     "text": [
      "4it [00:06,  1.58s/it]"
     ]
    },
    {
     "name": "stdout",
     "output_type": "stream",
     "text": [
      "Factoid question: What is Eatwith's policy on hosts offering discounts or cash back to guests outside of the Eatwith platform?\n",
      "\n",
      "Answer: Eatwith prohibits hosts from offering discounts or cash back to guests outside of the Eatwith platform. Hosts are not allowed to bypass the Eatwith platform for payments or to offer any portion of their commission or turnover to guests or potential guests.  This policy is in place to protect the integrity of the Eatwith platform and ensure that all transactions are properly managed and accounted for. \n"
     ]
    },
    {
     "name": "stderr",
     "output_type": "stream",
     "text": [
      "5it [00:08,  1.56s/it]"
     ]
    },
    {
     "name": "stdout",
     "output_type": "stream",
     "text": [
      "Factoid question: What are the insurance requirements for publishing an Experience on the Airbnb platform?\n",
      "\n",
      "Answer: Airbnb may require Experience Hosts to obtain their own insurance to publish an Experience. The company will notify hosts of any changes to the insurance requirements. Hosts are expected to acquire and maintain insurance for themselves, their team, and their experience with the coverage and amounts specified by Airbnb. Hosts must cooperate with Airbnb to verify their insurance coverage. If Airbnb has its own liability insurance covering Experiences, the host's insurance will be the primary source of coverage, and Airbnb's insurance will function as excess or secondary insurance for amounts exceeding the host's coverage. However, procuring secondary insurance by Airbnb does not relieve hosts of their obligation to obtain insurance in amounts required by the company. \n"
     ]
    },
    {
     "name": "stderr",
     "output_type": "stream",
     "text": [
      "6it [00:09,  1.59s/it]"
     ]
    },
    {
     "name": "stdout",
     "output_type": "stream",
     "text": [
      "Factoid question: What is Tripadvisor's policy regarding the posting of content that infringes on someone's copyright?\n",
      "Answer: Tripadvisor operates on a \"notice and takedown\" basis. If you believe that material or content posted on the Services infringes a copyright that you hold, you can contact them by following their notice and takedown procedure. Tripadvisor will then make all reasonable efforts to remove manifestly illegal content within a reasonable time. \n"
     ]
    },
    {
     "name": "stderr",
     "output_type": "stream",
     "text": [
      "7it [00:11,  1.50s/it]"
     ]
    },
    {
     "name": "stdout",
     "output_type": "stream",
     "text": [
      "Factoid question: What is the policy on recording lessons in Preply?\n",
      "Answer: Preply may record lessons to ensure quality and may use those recordings without compensation to the user. Users can opt out of recordings or request removal of existing recordings by contacting support@preply.com. \n"
     ]
    },
    {
     "name": "stderr",
     "output_type": "stream",
     "text": [
      "8it [00:13,  1.56s/it]"
     ]
    },
    {
     "name": "stdout",
     "output_type": "stream",
     "text": [
      "Factoid question: What is the policy regarding payments for Cash Orders placed with Thuisbezorgd.nl? \n",
      "Answer: Thuisbezorgd.nl does not accept Cash Orders when they are procuring the Delivery Services. If Thuisbezorgd.nl is not procuring the Delivery Services, then the Restaurant will receive the payment from Customers for Cash Orders. \n"
     ]
    },
    {
     "name": "stderr",
     "output_type": "stream",
     "text": [
      "9it [00:14,  1.47s/it]"
     ]
    },
    {
     "name": "stdout",
     "output_type": "stream",
     "text": [
      "Factoid question: What is BeReal's policy on retaining data related to user interactions, such as friend invitations and comments?\n",
      "\n",
      "Answer: BeReal retains interaction data indefinitely, meaning for as long as a user has an active account or until the interaction is deleted by the user. This includes data like friend invitations, reactions, and comments left on content shared by others. \n"
     ]
    },
    {
     "name": "stderr",
     "output_type": "stream",
     "text": [
      "10it [00:15,  1.59s/it]"
     ]
    },
    {
     "name": "stdout",
     "output_type": "stream",
     "text": [
      "Factoid question: What happens to my TikTok For Business account if I violate the TikTok For Business Commercial Terms of Service?\n",
      "Answer: TikTok reserves the right to suspend, terminate, or restrict access to your TikTok For Business account if they determine you have violated the Commercial Terms of Service, are about to materially breach the terms, or are causing harm to TikTok, its users, or other third parties. TikTok may also terminate your account for convenience with 30 days' prior written notice. \n"
     ]
    },
    {
     "name": "stderr",
     "output_type": "stream",
     "text": [
      "\n"
     ]
    }
   ],
   "source": [
    "outputs = []\n",
    "for doc in tqdm(documents.sample(n=N_GENERATIONS, random_state=48).iterrows()):\n",
    "    # Generate QA couple\n",
    "    context = \" Company:\" + doc[1]['company_names'] + doc[1]['documents']\n",
    "    output_QA_couple = call_llm(model, prompt_template.format(context=context))\n",
    "    time.sleep(0.5)\n",
    "    print(output_QA_couple)\n",
    "    try:\n",
    "        question = output_QA_couple.split(\"Factoid question:\")[-1].split(\"Answer: \")[0]\n",
    "        answer = output_QA_couple.split(\"Answer: \")[-1]\n",
    "        outputs.append(\n",
    "            {\n",
    "                \"company\": doc[1]['company_names'],\n",
    "                \"question\": question,\n",
    "                \"right answer\": answer,\n",
    "            }\n",
    "        )\n",
    "    except:\n",
    "        print(\"Error\")\n",
    "        continue"
   ]
  },
  {
   "cell_type": "code",
   "execution_count": 12,
   "id": "7084ad8b32059860",
   "metadata": {
    "ExecuteTime": {
     "end_time": "2024-10-25T11:49:37.138314Z",
     "start_time": "2024-10-25T11:49:37.126341Z"
    },
    "collapsed": false
   },
   "outputs": [
    {
     "data": {
      "text/html": [
       "<div>\n",
       "<style scoped>\n",
       "    .dataframe tbody tr th:only-of-type {\n",
       "        vertical-align: middle;\n",
       "    }\n",
       "\n",
       "    .dataframe tbody tr th {\n",
       "        vertical-align: top;\n",
       "    }\n",
       "\n",
       "    .dataframe thead th {\n",
       "        text-align: right;\n",
       "    }\n",
       "</style>\n",
       "<table border=\"1\" class=\"dataframe\">\n",
       "  <thead>\n",
       "    <tr style=\"text-align: right;\">\n",
       "      <th></th>\n",
       "      <th>company</th>\n",
       "      <th>question</th>\n",
       "      <th>right answer</th>\n",
       "    </tr>\n",
       "  </thead>\n",
       "  <tbody>\n",
       "    <tr>\n",
       "      <th>0</th>\n",
       "      <td>Bolt</td>\n",
       "      <td>What is the policy on retaining driver data a...</td>\n",
       "      <td>After a driver's account is closed, Bolt Head...</td>\n",
       "    </tr>\n",
       "    <tr>\n",
       "      <th>1</th>\n",
       "      <td>Shopify</td>\n",
       "      <td>How long does Shopify keep store information ...</td>\n",
       "      <td>Shopify retains store information for two year...</td>\n",
       "    </tr>\n",
       "    <tr>\n",
       "      <th>2</th>\n",
       "      <td>Amazon</td>\n",
       "      <td>What is Amazon's policy regarding the storage...</td>\n",
       "      <td>Amazon states that they will not retain, use, ...</td>\n",
       "    </tr>\n",
       "    <tr>\n",
       "      <th>3</th>\n",
       "      <td>Uber</td>\n",
       "      <td>What is the policy on returns in Uber?\\n</td>\n",
       "      <td>The Uber Terms of Service do not explicitly m...</td>\n",
       "    </tr>\n",
       "    <tr>\n",
       "      <th>4</th>\n",
       "      <td>TikTok</td>\n",
       "      <td>What company am I contracting with when I use...</td>\n",
       "      <td>If you are resident in the United Kingdom, you...</td>\n",
       "    </tr>\n",
       "    <tr>\n",
       "      <th>5</th>\n",
       "      <td>Google Search</td>\n",
       "      <td>What happens to my Google One membership afte...</td>\n",
       "      <td>After the promotional period (Offer Period) en...</td>\n",
       "    </tr>\n",
       "    <tr>\n",
       "      <th>6</th>\n",
       "      <td>Instagram</td>\n",
       "      <td>What is the maximum time it can take for Inst...</td>\n",
       "      <td>According to Instagram's policies, it can take...</td>\n",
       "    </tr>\n",
       "    <tr>\n",
       "      <th>7</th>\n",
       "      <td>AliExpress</td>\n",
       "      <td>What is the policy on the number of product l...</td>\n",
       "      <td>AliExpress reserves the right to place restri...</td>\n",
       "    </tr>\n",
       "    <tr>\n",
       "      <th>8</th>\n",
       "      <td>azuremarketplace.microsoft.com</td>\n",
       "      <td>What are the governing terms and conditions f...</td>\n",
       "      <td>If you purchase Azure services through a Micr...</td>\n",
       "    </tr>\n",
       "    <tr>\n",
       "      <th>9</th>\n",
       "      <td>Tradera</td>\n",
       "      <td>What kind of data does Tradera collect automa...</td>\n",
       "      <td>Tradera automatically collects information sen...</td>\n",
       "    </tr>\n",
       "    <tr>\n",
       "      <th>10</th>\n",
       "      <td>Mastodon</td>\n",
       "      <td>What is the policy regarding server shutdowns...</td>\n",
       "      <td>MastodonAll requires all servers to give users...</td>\n",
       "    </tr>\n",
       "    <tr>\n",
       "      <th>11</th>\n",
       "      <td>Telegram</td>\n",
       "      <td>What are the requirements for Telegram client...</td>\n",
       "      <td>Telegram clients are obligated to verify that ...</td>\n",
       "    </tr>\n",
       "    <tr>\n",
       "      <th>12</th>\n",
       "      <td>Qwant</td>\n",
       "      <td>How does Qwant rank the news articles display...</td>\n",
       "      <td>Qwant ranks news articles in the Qwant News se...</td>\n",
       "    </tr>\n",
       "    <tr>\n",
       "      <th>13</th>\n",
       "      <td>Zalando</td>\n",
       "      <td>What is Zalando's policy on returning items p...</td>\n",
       "      <td>Zalando offers a voluntary 100-day return opti...</td>\n",
       "    </tr>\n",
       "    <tr>\n",
       "      <th>14</th>\n",
       "      <td>Libro</td>\n",
       "      <td>What are the consequences of failing to pay s...</td>\n",
       "      <td>If you fail to pay your subscription charges o...</td>\n",
       "    </tr>\n",
       "    <tr>\n",
       "      <th>15</th>\n",
       "      <td>Temu</td>\n",
       "      <td>What is Temu's policy on returns and refunds?...</td>\n",
       "      <td>Temu offers a return and refund policy for all...</td>\n",
       "    </tr>\n",
       "    <tr>\n",
       "      <th>16</th>\n",
       "      <td>Fairbnb.coop</td>\n",
       "      <td>What data does Fairbnb.coop collect from user...</td>\n",
       "      <td>Fairbnb.coop collects internet-browsing techni...</td>\n",
       "    </tr>\n",
       "    <tr>\n",
       "      <th>17</th>\n",
       "      <td>Booking.com</td>\n",
       "      <td>Does Booking.com allow content that promotes ...</td>\n",
       "      <td>No, Booking.com prohibits content that promote...</td>\n",
       "    </tr>\n",
       "    <tr>\n",
       "      <th>18</th>\n",
       "      <td>Yandex Maps</td>\n",
       "      <td>What information does Yandex.Maps use to pers...</td>\n",
       "      <td>Yandex.Maps utilizes several data points to pe...</td>\n",
       "    </tr>\n",
       "    <tr>\n",
       "      <th>19</th>\n",
       "      <td>shopify.com</td>\n",
       "      <td>What happens to domain names purchased throug...</td>\n",
       "      <td>If you cancel your Shopify account, domain nam...</td>\n",
       "    </tr>\n",
       "    <tr>\n",
       "      <th>20</th>\n",
       "      <td>WeChat</td>\n",
       "      <td>What happens to a WeChat user's account if th...</td>\n",
       "      <td>If a WeChat user repeatedly violates the Commu...</td>\n",
       "    </tr>\n",
       "    <tr>\n",
       "      <th>21</th>\n",
       "      <td>Libro</td>\n",
       "      <td>What is the policy on refunding payments if I...</td>\n",
       "      <td>According to Libro's Subscription Agreement, i...</td>\n",
       "    </tr>\n",
       "    <tr>\n",
       "      <th>22</th>\n",
       "      <td>Telegram</td>\n",
       "      <td>What are the consequences of violating the Te...</td>\n",
       "      <td>If your app violates the Telegram API Terms of...</td>\n",
       "    </tr>\n",
       "    <tr>\n",
       "      <th>23</th>\n",
       "      <td>Crunchbase</td>\n",
       "      <td>What is Crunchbase's policy on the use of AI-...</td>\n",
       "      <td>Crunchbase provides access to information or d...</td>\n",
       "    </tr>\n",
       "    <tr>\n",
       "      <th>24</th>\n",
       "      <td>Google Maps</td>\n",
       "      <td>What happens if I disagree with Google Maps' ...</td>\n",
       "      <td>If you disagree with Google Maps' decision to ...</td>\n",
       "    </tr>\n",
       "    <tr>\n",
       "      <th>25</th>\n",
       "      <td>LinkedIn</td>\n",
       "      <td>What is the policy on refunds for LinkedIn Pr...</td>\n",
       "      <td>According to LinkedIn's User Agreement, all p...</td>\n",
       "    </tr>\n",
       "    <tr>\n",
       "      <th>26</th>\n",
       "      <td>TRIVAGO</td>\n",
       "      <td>What is TRIVAGO's policy on the deletion of m...</td>\n",
       "      <td>If you wish to delete your hotel's content fro...</td>\n",
       "    </tr>\n",
       "    <tr>\n",
       "      <th>27</th>\n",
       "      <td>La Pajara</td>\n",
       "      <td>What is the policy on user data collection at...</td>\n",
       "      <td>La PajaraCoopCycle collects certain informatio...</td>\n",
       "    </tr>\n",
       "    <tr>\n",
       "      <th>28</th>\n",
       "      <td>Local Services</td>\n",
       "      <td>What is the policy on disclosing information ...</td>\n",
       "      <td>Local Services by Google may disclose informat...</td>\n",
       "    </tr>\n",
       "    <tr>\n",
       "      <th>29</th>\n",
       "      <td>Spotify</td>\n",
       "      <td>What are Spotify's policies on content contai...</td>\n",
       "      <td>Spotify allows embedded advertising in podcast...</td>\n",
       "    </tr>\n",
       "    <tr>\n",
       "      <th>30</th>\n",
       "      <td>Blacklane</td>\n",
       "      <td>What are the different ways a user can commun...</td>\n",
       "      <td>Blacklane offers various communication channel...</td>\n",
       "    </tr>\n",
       "    <tr>\n",
       "      <th>31</th>\n",
       "      <td>TikTok</td>\n",
       "      <td>What are TikTok's policies on content that mi...</td>\n",
       "      <td>TikTok employs age restrictions on mature cont...</td>\n",
       "    </tr>\n",
       "    <tr>\n",
       "      <th>32</th>\n",
       "      <td>Tradera</td>\n",
       "      <td>What is the policy on closing accounts in Tra...</td>\n",
       "      <td>Tradera reserves the right to close accounts t...</td>\n",
       "    </tr>\n",
       "    <tr>\n",
       "      <th>33</th>\n",
       "      <td>Alibaba.com</td>\n",
       "      <td>What is the policy on refunds for Alibaba.com...</td>\n",
       "      <td>Except for specific circumstances outlined in ...</td>\n",
       "    </tr>\n",
       "    <tr>\n",
       "      <th>34</th>\n",
       "      <td>YouTube</td>\n",
       "      <td>What are YouTube's guidelines on posting cont...</td>\n",
       "      <td>YouTube prohibits the promotion or sale of fir...</td>\n",
       "    </tr>\n",
       "    <tr>\n",
       "      <th>35</th>\n",
       "      <td>Mastodon</td>\n",
       "      <td>What information about my account activity ca...</td>\n",
       "      <td>Mastodon.social retains the IP address associa...</td>\n",
       "    </tr>\n",
       "    <tr>\n",
       "      <th>36</th>\n",
       "      <td>Image Creator</td>\n",
       "      <td>What happens if I repeatedly violate the Code...</td>\n",
       "      <td>Repeatedly violating the Code of Conduct in Im...</td>\n",
       "    </tr>\n",
       "    <tr>\n",
       "      <th>37</th>\n",
       "      <td>Pinterest</td>\n",
       "      <td>What is the policy on using Pinterest for com...</td>\n",
       "      <td>If you want to use Pinterest for commercial pu...</td>\n",
       "    </tr>\n",
       "    <tr>\n",
       "      <th>38</th>\n",
       "      <td>Lieferando.de</td>\n",
       "      <td>Does Lieferando.de use paid advertising to in...</td>\n",
       "      <td>Yes, Lieferando.de offers sponsorship services...</td>\n",
       "    </tr>\n",
       "    <tr>\n",
       "      <th>39</th>\n",
       "      <td>azuremarketplace.microsoft.com</td>\n",
       "      <td>What are the terms and conditions governing t...</td>\n",
       "      <td>The Preview Supplemental Terms include additio...</td>\n",
       "    </tr>\n",
       "    <tr>\n",
       "      <th>0</th>\n",
       "      <td>MyTable</td>\n",
       "      <td>What happens if a restaurant using MyTable Gu...</td>\n",
       "      <td>If a restaurant using MyTable Guest Center fai...</td>\n",
       "    </tr>\n",
       "    <tr>\n",
       "      <th>1</th>\n",
       "      <td>MistralAI</td>\n",
       "      <td>What is Mistral AI’s policy on user data rete...</td>\n",
       "      <td>Mistral AI retains a user's prompts and output...</td>\n",
       "    </tr>\n",
       "    <tr>\n",
       "      <th>2</th>\n",
       "      <td>Google Play</td>\n",
       "      <td>What information about users who write review...</td>\n",
       "      <td>Google Play developers can see the user's name...</td>\n",
       "    </tr>\n",
       "    <tr>\n",
       "      <th>3</th>\n",
       "      <td>Snapchat</td>\n",
       "      <td>What is the policy on using Snapchat if I am ...</td>\n",
       "      <td>If you are using Snapchat on behalf of a busin...</td>\n",
       "    </tr>\n",
       "    <tr>\n",
       "      <th>4</th>\n",
       "      <td>Amazon</td>\n",
       "      <td>What factors does Amazon consider when choosi...</td>\n",
       "      <td>Amazon's \"Featured\" search results prioritize ...</td>\n",
       "    </tr>\n",
       "    <tr>\n",
       "      <th>5</th>\n",
       "      <td>AliExpress</td>\n",
       "      <td>What is the policy on returning products purc...</td>\n",
       "      <td>As an AliExpress Relevant Jurisdiction User, y...</td>\n",
       "    </tr>\n",
       "    <tr>\n",
       "      <th>6</th>\n",
       "      <td>Facebook</td>\n",
       "      <td>What are Facebook's policies on using content...</td>\n",
       "      <td>Facebook requires users to grant a non-exclus...</td>\n",
       "    </tr>\n",
       "    <tr>\n",
       "      <th>7</th>\n",
       "      <td>Otto</td>\n",
       "      <td>What is OttoOtto's liability policy if a reta...</td>\n",
       "      <td>OttoOtto's liability for data loss is limited ...</td>\n",
       "    </tr>\n",
       "    <tr>\n",
       "      <th>8</th>\n",
       "      <td>Google Maps</td>\n",
       "      <td>What happens if I disagree with Google Maps' ...</td>\n",
       "      <td>If you disagree with Google Maps' decision to ...</td>\n",
       "    </tr>\n",
       "    <tr>\n",
       "      <th>9</th>\n",
       "      <td>Houzz Pro</td>\n",
       "      <td>What is Houzz Pro's policy on disclosing pers...</td>\n",
       "      <td>Houzz Pro's data importer (Houzz Inc.) agrees ...</td>\n",
       "    </tr>\n",
       "  </tbody>\n",
       "</table>\n",
       "</div>"
      ],
      "text/plain": [
       "                           company  \\\n",
       "0                             Bolt   \n",
       "1                          Shopify   \n",
       "2                           Amazon   \n",
       "3                             Uber   \n",
       "4                           TikTok   \n",
       "5                    Google Search   \n",
       "6                        Instagram   \n",
       "7                       AliExpress   \n",
       "8   azuremarketplace.microsoft.com   \n",
       "9                          Tradera   \n",
       "10                        Mastodon   \n",
       "11                        Telegram   \n",
       "12                           Qwant   \n",
       "13                         Zalando   \n",
       "14                           Libro   \n",
       "15                            Temu   \n",
       "16                    Fairbnb.coop   \n",
       "17                     Booking.com   \n",
       "18                     Yandex Maps   \n",
       "19                     shopify.com   \n",
       "20                          WeChat   \n",
       "21                           Libro   \n",
       "22                        Telegram   \n",
       "23                      Crunchbase   \n",
       "24                     Google Maps   \n",
       "25                        LinkedIn   \n",
       "26                         TRIVAGO   \n",
       "27                       La Pajara   \n",
       "28                  Local Services   \n",
       "29                         Spotify   \n",
       "30                       Blacklane   \n",
       "31                          TikTok   \n",
       "32                         Tradera   \n",
       "33                     Alibaba.com   \n",
       "34                         YouTube   \n",
       "35                        Mastodon   \n",
       "36                   Image Creator   \n",
       "37                       Pinterest   \n",
       "38                   Lieferando.de   \n",
       "39  azuremarketplace.microsoft.com   \n",
       "0                          MyTable   \n",
       "1                        MistralAI   \n",
       "2                      Google Play   \n",
       "3                         Snapchat   \n",
       "4                           Amazon   \n",
       "5                       AliExpress   \n",
       "6                         Facebook   \n",
       "7                             Otto   \n",
       "8                      Google Maps   \n",
       "9                        Houzz Pro   \n",
       "\n",
       "                                             question  \\\n",
       "0    What is the policy on retaining driver data a...   \n",
       "1    How long does Shopify keep store information ...   \n",
       "2    What is Amazon's policy regarding the storage...   \n",
       "3            What is the policy on returns in Uber?\\n   \n",
       "4    What company am I contracting with when I use...   \n",
       "5    What happens to my Google One membership afte...   \n",
       "6    What is the maximum time it can take for Inst...   \n",
       "7    What is the policy on the number of product l...   \n",
       "8    What are the governing terms and conditions f...   \n",
       "9    What kind of data does Tradera collect automa...   \n",
       "10   What is the policy regarding server shutdowns...   \n",
       "11   What are the requirements for Telegram client...   \n",
       "12   How does Qwant rank the news articles display...   \n",
       "13   What is Zalando's policy on returning items p...   \n",
       "14   What are the consequences of failing to pay s...   \n",
       "15   What is Temu's policy on returns and refunds?...   \n",
       "16   What data does Fairbnb.coop collect from user...   \n",
       "17   Does Booking.com allow content that promotes ...   \n",
       "18   What information does Yandex.Maps use to pers...   \n",
       "19   What happens to domain names purchased throug...   \n",
       "20   What happens to a WeChat user's account if th...   \n",
       "21   What is the policy on refunding payments if I...   \n",
       "22   What are the consequences of violating the Te...   \n",
       "23   What is Crunchbase's policy on the use of AI-...   \n",
       "24   What happens if I disagree with Google Maps' ...   \n",
       "25   What is the policy on refunds for LinkedIn Pr...   \n",
       "26   What is TRIVAGO's policy on the deletion of m...   \n",
       "27   What is the policy on user data collection at...   \n",
       "28   What is the policy on disclosing information ...   \n",
       "29   What are Spotify's policies on content contai...   \n",
       "30   What are the different ways a user can commun...   \n",
       "31   What are TikTok's policies on content that mi...   \n",
       "32   What is the policy on closing accounts in Tra...   \n",
       "33   What is the policy on refunds for Alibaba.com...   \n",
       "34   What are YouTube's guidelines on posting cont...   \n",
       "35   What information about my account activity ca...   \n",
       "36   What happens if I repeatedly violate the Code...   \n",
       "37   What is the policy on using Pinterest for com...   \n",
       "38   Does Lieferando.de use paid advertising to in...   \n",
       "39   What are the terms and conditions governing t...   \n",
       "0    What happens if a restaurant using MyTable Gu...   \n",
       "1    What is Mistral AI’s policy on user data rete...   \n",
       "2    What information about users who write review...   \n",
       "3    What is the policy on using Snapchat if I am ...   \n",
       "4    What factors does Amazon consider when choosi...   \n",
       "5    What is the policy on returning products purc...   \n",
       "6    What are Facebook's policies on using content...   \n",
       "7    What is OttoOtto's liability policy if a reta...   \n",
       "8    What happens if I disagree with Google Maps' ...   \n",
       "9    What is Houzz Pro's policy on disclosing pers...   \n",
       "\n",
       "                                         right answer  \n",
       "0    After a driver's account is closed, Bolt Head...  \n",
       "1   Shopify retains store information for two year...  \n",
       "2   Amazon states that they will not retain, use, ...  \n",
       "3    The Uber Terms of Service do not explicitly m...  \n",
       "4   If you are resident in the United Kingdom, you...  \n",
       "5   After the promotional period (Offer Period) en...  \n",
       "6   According to Instagram's policies, it can take...  \n",
       "7    AliExpress reserves the right to place restri...  \n",
       "8    If you purchase Azure services through a Micr...  \n",
       "9   Tradera automatically collects information sen...  \n",
       "10  MastodonAll requires all servers to give users...  \n",
       "11  Telegram clients are obligated to verify that ...  \n",
       "12  Qwant ranks news articles in the Qwant News se...  \n",
       "13  Zalando offers a voluntary 100-day return opti...  \n",
       "14  If you fail to pay your subscription charges o...  \n",
       "15  Temu offers a return and refund policy for all...  \n",
       "16  Fairbnb.coop collects internet-browsing techni...  \n",
       "17  No, Booking.com prohibits content that promote...  \n",
       "18  Yandex.Maps utilizes several data points to pe...  \n",
       "19  If you cancel your Shopify account, domain nam...  \n",
       "20  If a WeChat user repeatedly violates the Commu...  \n",
       "21  According to Libro's Subscription Agreement, i...  \n",
       "22  If your app violates the Telegram API Terms of...  \n",
       "23  Crunchbase provides access to information or d...  \n",
       "24  If you disagree with Google Maps' decision to ...  \n",
       "25   According to LinkedIn's User Agreement, all p...  \n",
       "26  If you wish to delete your hotel's content fro...  \n",
       "27  La PajaraCoopCycle collects certain informatio...  \n",
       "28  Local Services by Google may disclose informat...  \n",
       "29  Spotify allows embedded advertising in podcast...  \n",
       "30  Blacklane offers various communication channel...  \n",
       "31  TikTok employs age restrictions on mature cont...  \n",
       "32  Tradera reserves the right to close accounts t...  \n",
       "33  Except for specific circumstances outlined in ...  \n",
       "34  YouTube prohibits the promotion or sale of fir...  \n",
       "35  Mastodon.social retains the IP address associa...  \n",
       "36  Repeatedly violating the Code of Conduct in Im...  \n",
       "37  If you want to use Pinterest for commercial pu...  \n",
       "38  Yes, Lieferando.de offers sponsorship services...  \n",
       "39  The Preview Supplemental Terms include additio...  \n",
       "0   If a restaurant using MyTable Guest Center fai...  \n",
       "1   Mistral AI retains a user's prompts and output...  \n",
       "2   Google Play developers can see the user's name...  \n",
       "3   If you are using Snapchat on behalf of a busin...  \n",
       "4   Amazon's \"Featured\" search results prioritize ...  \n",
       "5   As an AliExpress Relevant Jurisdiction User, y...  \n",
       "6    Facebook requires users to grant a non-exclus...  \n",
       "7   OttoOtto's liability for data loss is limited ...  \n",
       "8   If you disagree with Google Maps' decision to ...  \n",
       "9   Houzz Pro's data importer (Houzz Inc.) agrees ...  "
      ]
     },
     "execution_count": 12,
     "metadata": {},
     "output_type": "execute_result"
    }
   ],
   "source": [
    "new_testset = pd.concat([new_testset, pd.DataFrame(outputs)])\n",
    "new_testset"
   ]
  },
  {
   "cell_type": "code",
   "execution_count": null,
   "id": "ba250496da909ced",
   "metadata": {
    "collapsed": false
   },
   "outputs": [],
   "source": [
    "new_testset.to_excel('new_testset.xlsx', index=False)"
   ]
  }
 ],
 "metadata": {
  "kernelspec": {
   "display_name": "Python 3",
   "language": "python",
   "name": "python3"
  },
  "language_info": {
   "codemirror_mode": {
    "name": "ipython",
    "version": 2
   },
   "file_extension": ".py",
   "mimetype": "text/x-python",
   "name": "python",
   "nbconvert_exporter": "python",
   "pygments_lexer": "ipython2",
   "version": "2.7.6"
  }
 },
 "nbformat": 4,
 "nbformat_minor": 5
}
