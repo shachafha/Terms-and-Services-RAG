{
 "cells": [
  {
   "cell_type": "code",
   "execution_count": 7,
   "id": "initial_id",
   "metadata": {
    "collapsed": true,
    "ExecuteTime": {
     "end_time": "2024-10-30T15:00:03.805506Z",
     "start_time": "2024-10-30T15:00:03.800954Z"
    }
   },
   "outputs": [],
   "source": [
    "import os\n",
    "import google.generativeai as genai\n",
    "import pandas as pd\n",
    "import json\n",
    "import random\n",
    "from tqdm import tqdm\n",
    "from langchain.prompts.chat import (ChatPromptTemplate, HumanMessagePromptTemplate)\n",
    "import time\n",
    "\n",
    "N_GENERATIONS = 10"
   ]
  },
  {
   "cell_type": "code",
   "outputs": [],
   "source": [
    "with open(\"gemini_api_key.txt\") as f:\n",
    "    gemini_api_key = f.read().strip()\n",
    "genai.configure(api_key=gemini_api_key)\n",
    "model = genai.GenerativeModel(model_name='gemini-1.5-flash')"
   ],
   "metadata": {
    "collapsed": false,
    "ExecuteTime": {
     "end_time": "2024-10-30T15:00:22.538086Z",
     "start_time": "2024-10-30T15:00:22.532931Z"
    }
   },
   "id": "6b2003d85f3ba31a",
   "execution_count": 8
  },
  {
   "cell_type": "code",
   "outputs": [],
   "source": [
    "QA_generation_prompt = \"\"\"\n",
    "Your task is to write a factoid question and an answer based on the given Terms and Conditions (T&C) context.\n",
    "Your factoid question should target specific clauses, rights, obligations, or policies from the context, focusing on key details that a user may seek clarity on.\n",
    "Make sure your factoid question resembles the type of questions a user might ask when seeking information about T&C, and make sure you incorporate the company name in the question such as \"What is the policy on returns in <company name>?\" or \"How are user data stored in <company name>?\"\n",
    "\n",
    "Avoid references to \"the passage\" or \"context\" in your question and avoid directing reader to the documents for more information.\n",
    "\n",
    "Provide your answer as follows:\n",
    "\n",
    "Factoid question: (your factoid question)\n",
    "Answer: (your detailed and precise answer to the factoid question)\n",
    "\n",
    "Now here is the context.\n",
    "\n",
    "Context: {context}\n",
    "\"\"\"\n",
    "\n",
    "prompt_template = ChatPromptTemplate.from_messages([HumanMessagePromptTemplate.from_template(QA_generation_prompt)])"
   ],
   "metadata": {
    "collapsed": false,
    "ExecuteTime": {
     "end_time": "2024-10-30T15:00:27.863405Z",
     "start_time": "2024-10-30T15:00:27.859307Z"
    }
   },
   "id": "97b3b975046f7ccc",
   "execution_count": 9
  },
  {
   "cell_type": "code",
   "outputs": [],
   "source": [
    "def call_llm(model, prompt):\n",
    "    response = model.generate_content(prompt)\n",
    "    return response.text"
   ],
   "metadata": {
    "collapsed": false,
    "ExecuteTime": {
     "end_time": "2024-10-30T15:00:30.089596Z",
     "start_time": "2024-10-30T15:00:30.086086Z"
    }
   },
   "id": "1d99361255821b13",
   "execution_count": 10
  },
  {
   "cell_type": "code",
   "outputs": [],
   "source": [
    "documents = pd.read_csv('documents.csv')"
   ],
   "metadata": {
    "collapsed": false,
    "ExecuteTime": {
     "end_time": "2024-10-30T15:00:31.345108Z",
     "start_time": "2024-10-30T15:00:31.216096Z"
    }
   },
   "id": "b642f5982173e0c7",
   "execution_count": 11
  },
  {
   "cell_type": "code",
   "outputs": [
    {
     "name": "stderr",
     "output_type": "stream",
     "text": [
      "1it [00:02,  2.57s/it]"
     ]
    },
    {
     "name": "stdout",
     "output_type": "stream",
     "text": [
      "Factoid question: What is the policy regarding the posting of ads for real estate on Bazaraki?\n",
      "Answer: Bazaraki allows ads for properties located only within the Republic of Cyprus. They act as an advertising platform and are not a licensed real estate agent, meaning they do not assist with any transactions related to real estate. Only owners of real estate, developers, agents, legal representatives of owners with a Power of Attorney, and first-degree relatives of owners can list real estate on Bazaraki. Bazaraki is not obligated to review or control any person or organization posting ads on their platform. They do not arrange viewings for listed properties and the information provided is purely for informational purposes, not constituting an offer or invitation to sell or rent real estate. Additionally, Bazaraki may, at their discretion, remove or decline to display any information or ad that does not comply with their terms and conditions. They may require the information to be amended if they believe a user is in breach of the terms or applicable law. Bazaraki reserves the right to charge additional fees for listings if they believe an ad is in breach of their terms. Lastly, Bazaraki does not monitor or censor the information or ads posted on their platform and is not responsible for any errors or omissions in the provided information. \n"
     ]
    },
    {
     "name": "stderr",
     "output_type": "stream",
     "text": [
      "2it [00:04,  1.94s/it]"
     ]
    },
    {
     "name": "stdout",
     "output_type": "stream",
     "text": [
      "Factoid question: What is the policy regarding returns and refunds for items purchased through ZVAB?\n",
      "Answer: ZVAB sellers are obligated to accept returns from customers in accordance with the return policies outlined in the Seller Policies.  Refunds for returned items paid for through the External Payment Service Provider are managed by AbeBooks.  ZVAB sellers will either be invoiced for refunds or AbeBooks will debit refunds against the proceeds due from the External Payment Service Provider. ZVAB sellers are prohibited from charging restocking or similar fees in connection with returns and/or refunds. \n"
     ]
    },
    {
     "name": "stderr",
     "output_type": "stream",
     "text": [
      "3it [00:05,  1.64s/it]"
     ]
    },
    {
     "name": "stdout",
     "output_type": "stream",
     "text": [
      "Factoid question: What happens to my Xiaomi Account if I don't use it for two years?\n",
      "Answer: If you haven't used your Xiaomi Account for 24 consecutive months or haven't signed in using other approved methods, Xiaomi has the right to cancel your account. This means you'll lose access to the account and related services. However, Xiaomi will provide reasonable assistance with pending transactions or balances associated with the account. You should follow Xiaomi's instructions and notifications for this process. \n"
     ]
    },
    {
     "name": "stderr",
     "output_type": "stream",
     "text": [
      "4it [00:06,  1.58s/it]"
     ]
    },
    {
     "name": "stdout",
     "output_type": "stream",
     "text": [
      "Factoid question: What is Eatwith's policy on hosts offering discounts or cash back to guests outside of the Eatwith platform?\n",
      "\n",
      "Answer: Eatwith prohibits hosts from offering discounts or cash back to guests outside of the Eatwith platform. Hosts are not allowed to bypass the Eatwith platform for payments or to offer any portion of their commission or turnover to guests or potential guests.  This policy is in place to protect the integrity of the Eatwith platform and ensure that all transactions are properly managed and accounted for. \n"
     ]
    },
    {
     "name": "stderr",
     "output_type": "stream",
     "text": [
      "5it [00:08,  1.56s/it]"
     ]
    },
    {
     "name": "stdout",
     "output_type": "stream",
     "text": [
      "Factoid question: What are the insurance requirements for publishing an Experience on the Airbnb platform?\n",
      "\n",
      "Answer: Airbnb may require Experience Hosts to obtain their own insurance to publish an Experience. The company will notify hosts of any changes to the insurance requirements. Hosts are expected to acquire and maintain insurance for themselves, their team, and their experience with the coverage and amounts specified by Airbnb. Hosts must cooperate with Airbnb to verify their insurance coverage. If Airbnb has its own liability insurance covering Experiences, the host's insurance will be the primary source of coverage, and Airbnb's insurance will function as excess or secondary insurance for amounts exceeding the host's coverage. However, procuring secondary insurance by Airbnb does not relieve hosts of their obligation to obtain insurance in amounts required by the company. \n"
     ]
    },
    {
     "name": "stderr",
     "output_type": "stream",
     "text": [
      "6it [00:09,  1.59s/it]"
     ]
    },
    {
     "name": "stdout",
     "output_type": "stream",
     "text": [
      "Factoid question: What is Tripadvisor's policy regarding the posting of content that infringes on someone's copyright?\n",
      "Answer: Tripadvisor operates on a \"notice and takedown\" basis. If you believe that material or content posted on the Services infringes a copyright that you hold, you can contact them by following their notice and takedown procedure. Tripadvisor will then make all reasonable efforts to remove manifestly illegal content within a reasonable time. \n"
     ]
    },
    {
     "name": "stderr",
     "output_type": "stream",
     "text": [
      "7it [00:11,  1.50s/it]"
     ]
    },
    {
     "name": "stdout",
     "output_type": "stream",
     "text": [
      "Factoid question: What is the policy on recording lessons in Preply?\n",
      "Answer: Preply may record lessons to ensure quality and may use those recordings without compensation to the user. Users can opt out of recordings or request removal of existing recordings by contacting support@preply.com. \n"
     ]
    },
    {
     "name": "stderr",
     "output_type": "stream",
     "text": [
      "8it [00:13,  1.56s/it]"
     ]
    },
    {
     "name": "stdout",
     "output_type": "stream",
     "text": [
      "Factoid question: What is the policy regarding payments for Cash Orders placed with Thuisbezorgd.nl? \n",
      "Answer: Thuisbezorgd.nl does not accept Cash Orders when they are procuring the Delivery Services. If Thuisbezorgd.nl is not procuring the Delivery Services, then the Restaurant will receive the payment from Customers for Cash Orders. \n"
     ]
    },
    {
     "name": "stderr",
     "output_type": "stream",
     "text": [
      "9it [00:14,  1.47s/it]"
     ]
    },
    {
     "name": "stdout",
     "output_type": "stream",
     "text": [
      "Factoid question: What is BeReal's policy on retaining data related to user interactions, such as friend invitations and comments?\n",
      "\n",
      "Answer: BeReal retains interaction data indefinitely, meaning for as long as a user has an active account or until the interaction is deleted by the user. This includes data like friend invitations, reactions, and comments left on content shared by others. \n"
     ]
    },
    {
     "name": "stderr",
     "output_type": "stream",
     "text": [
      "10it [00:15,  1.59s/it]"
     ]
    },
    {
     "name": "stdout",
     "output_type": "stream",
     "text": [
      "Factoid question: What happens to my TikTok For Business account if I violate the TikTok For Business Commercial Terms of Service?\n",
      "Answer: TikTok reserves the right to suspend, terminate, or restrict access to your TikTok For Business account if they determine you have violated the Commercial Terms of Service, are about to materially breach the terms, or are causing harm to TikTok, its users, or other third parties. TikTok may also terminate your account for convenience with 30 days' prior written notice. \n"
     ]
    },
    {
     "name": "stderr",
     "output_type": "stream",
     "text": [
      "\n"
     ]
    }
   ],
   "source": [
    "outputs = []\n",
    "for doc in tqdm(documents.sample(n=N_GENERATIONS, random_state=48).iterrows()):\n",
    "    # Generate QA couple\n",
    "    context = \" Company:\" + doc[1]['company_names'] + doc[1]['documents']\n",
    "    output_QA_couple = call_llm(model, prompt_template.format(context=context))\n",
    "    time.sleep(0.5)\n",
    "    print(output_QA_couple)\n",
    "    try:\n",
    "        question = output_QA_couple.split(\"Factoid question:\")[-1].split(\"Answer: \")[0]\n",
    "        answer = output_QA_couple.split(\"Answer: \")[-1]\n",
    "        outputs.append(\n",
    "            {\n",
    "                \"company\": doc[1]['company_names'],\n",
    "                \"question\": question,\n",
    "                \"right answer\": answer,\n",
    "            }\n",
    "        )\n",
    "    except:\n",
    "        print(\"Error\")\n",
    "        continue"
   ],
   "metadata": {
    "collapsed": false,
    "ExecuteTime": {
     "end_time": "2024-10-30T15:11:27.611298Z",
     "start_time": "2024-10-30T15:11:11.723242Z"
    }
   },
   "id": "4ee98ac4dee7146f",
   "execution_count": 42
  },
  {
   "cell_type": "code",
   "outputs": [
    {
     "data": {
      "text/plain": "                           company  \\\n0                             Bolt   \n1                          Shopify   \n2                           Amazon   \n3                             Uber   \n4                           TikTok   \n5                    Google Search   \n6                        Instagram   \n7                       AliExpress   \n8   azuremarketplace.microsoft.com   \n9                          Tradera   \n10                        Mastodon   \n11                        Telegram   \n12                           Qwant   \n13                         Zalando   \n14                           Libro   \n15                            Temu   \n16                    Fairbnb.coop   \n17                     Booking.com   \n18                     Yandex Maps   \n19                     shopify.com   \n20                          WeChat   \n21                           Libro   \n22                        Telegram   \n23                      Crunchbase   \n24                     Google Maps   \n25                        LinkedIn   \n26                         TRIVAGO   \n27                       La Pajara   \n28                  Local Services   \n29                         Spotify   \n30                       Blacklane   \n31                          TikTok   \n32                         Tradera   \n33                     Alibaba.com   \n34                         YouTube   \n35                        Mastodon   \n36                   Image Creator   \n37                       Pinterest   \n38                   Lieferando.de   \n39  azuremarketplace.microsoft.com   \n0                          MyTable   \n1                        MistralAI   \n2                      Google Play   \n3                         Snapchat   \n4                           Amazon   \n5                       AliExpress   \n6                         Facebook   \n7                             Otto   \n8                      Google Maps   \n9                        Houzz Pro   \n\n                                             question  \\\n0    What is the policy on retaining driver data a...   \n1    How long does Shopify keep store information ...   \n2    What is Amazon's policy regarding the storage...   \n3            What is the policy on returns in Uber?\\n   \n4    What company am I contracting with when I use...   \n5    What happens to my Google One membership afte...   \n6    What is the maximum time it can take for Inst...   \n7    What is the policy on the number of product l...   \n8    What are the governing terms and conditions f...   \n9    What kind of data does Tradera collect automa...   \n10   What is the policy regarding server shutdowns...   \n11   What are the requirements for Telegram client...   \n12   How does Qwant rank the news articles display...   \n13   What is Zalando's policy on returning items p...   \n14   What are the consequences of failing to pay s...   \n15   What is Temu's policy on returns and refunds?...   \n16   What data does Fairbnb.coop collect from user...   \n17   Does Booking.com allow content that promotes ...   \n18   What information does Yandex.Maps use to pers...   \n19   What happens to domain names purchased throug...   \n20   What happens to a WeChat user's account if th...   \n21   What is the policy on refunding payments if I...   \n22   What are the consequences of violating the Te...   \n23   What is Crunchbase's policy on the use of AI-...   \n24   What happens if I disagree with Google Maps' ...   \n25   What is the policy on refunds for LinkedIn Pr...   \n26   What is TRIVAGO's policy on the deletion of m...   \n27   What is the policy on user data collection at...   \n28   What is the policy on disclosing information ...   \n29   What are Spotify's policies on content contai...   \n30   What are the different ways a user can commun...   \n31   What are TikTok's policies on content that mi...   \n32   What is the policy on closing accounts in Tra...   \n33   What is the policy on refunds for Alibaba.com...   \n34   What are YouTube's guidelines on posting cont...   \n35   What information about my account activity ca...   \n36   What happens if I repeatedly violate the Code...   \n37   What is the policy on using Pinterest for com...   \n38   Does Lieferando.de use paid advertising to in...   \n39   What are the terms and conditions governing t...   \n0    What happens if a restaurant using MyTable Gu...   \n1    What is Mistral AI’s policy on user data rete...   \n2    What information about users who write review...   \n3    What is the policy on using Snapchat if I am ...   \n4    What factors does Amazon consider when choosi...   \n5    What is the policy on returning products purc...   \n6    What are Facebook's policies on using content...   \n7    What is OttoOtto's liability policy if a reta...   \n8    What happens if I disagree with Google Maps' ...   \n9    What is Houzz Pro's policy on disclosing pers...   \n\n                                         right answer  \n0    After a driver's account is closed, Bolt Head...  \n1   Shopify retains store information for two year...  \n2   Amazon states that they will not retain, use, ...  \n3    The Uber Terms of Service do not explicitly m...  \n4   If you are resident in the United Kingdom, you...  \n5   After the promotional period (Offer Period) en...  \n6   According to Instagram's policies, it can take...  \n7    AliExpress reserves the right to place restri...  \n8    If you purchase Azure services through a Micr...  \n9   Tradera automatically collects information sen...  \n10  MastodonAll requires all servers to give users...  \n11  Telegram clients are obligated to verify that ...  \n12  Qwant ranks news articles in the Qwant News se...  \n13  Zalando offers a voluntary 100-day return opti...  \n14  If you fail to pay your subscription charges o...  \n15  Temu offers a return and refund policy for all...  \n16  Fairbnb.coop collects internet-browsing techni...  \n17  No, Booking.com prohibits content that promote...  \n18  Yandex.Maps utilizes several data points to pe...  \n19  If you cancel your Shopify account, domain nam...  \n20  If a WeChat user repeatedly violates the Commu...  \n21  According to Libro's Subscription Agreement, i...  \n22  If your app violates the Telegram API Terms of...  \n23  Crunchbase provides access to information or d...  \n24  If you disagree with Google Maps' decision to ...  \n25   According to LinkedIn's User Agreement, all p...  \n26  If you wish to delete your hotel's content fro...  \n27  La PajaraCoopCycle collects certain informatio...  \n28  Local Services by Google may disclose informat...  \n29  Spotify allows embedded advertising in podcast...  \n30  Blacklane offers various communication channel...  \n31  TikTok employs age restrictions on mature cont...  \n32  Tradera reserves the right to close accounts t...  \n33  Except for specific circumstances outlined in ...  \n34  YouTube prohibits the promotion or sale of fir...  \n35  Mastodon.social retains the IP address associa...  \n36  Repeatedly violating the Code of Conduct in Im...  \n37  If you want to use Pinterest for commercial pu...  \n38  Yes, Lieferando.de offers sponsorship services...  \n39  The Preview Supplemental Terms include additio...  \n0   If a restaurant using MyTable Guest Center fai...  \n1   Mistral AI retains a user's prompts and output...  \n2   Google Play developers can see the user's name...  \n3   If you are using Snapchat on behalf of a busin...  \n4   Amazon's \"Featured\" search results prioritize ...  \n5   As an AliExpress Relevant Jurisdiction User, y...  \n6    Facebook requires users to grant a non-exclus...  \n7   OttoOtto's liability for data loss is limited ...  \n8   If you disagree with Google Maps' decision to ...  \n9   Houzz Pro's data importer (Houzz Inc.) agrees ...  ",
      "text/html": "<div>\n<style scoped>\n    .dataframe tbody tr th:only-of-type {\n        vertical-align: middle;\n    }\n\n    .dataframe tbody tr th {\n        vertical-align: top;\n    }\n\n    .dataframe thead th {\n        text-align: right;\n    }\n</style>\n<table border=\"1\" class=\"dataframe\">\n  <thead>\n    <tr style=\"text-align: right;\">\n      <th></th>\n      <th>company</th>\n      <th>question</th>\n      <th>right answer</th>\n    </tr>\n  </thead>\n  <tbody>\n    <tr>\n      <th>0</th>\n      <td>Bolt</td>\n      <td>What is the policy on retaining driver data a...</td>\n      <td>After a driver's account is closed, Bolt Head...</td>\n    </tr>\n    <tr>\n      <th>1</th>\n      <td>Shopify</td>\n      <td>How long does Shopify keep store information ...</td>\n      <td>Shopify retains store information for two year...</td>\n    </tr>\n    <tr>\n      <th>2</th>\n      <td>Amazon</td>\n      <td>What is Amazon's policy regarding the storage...</td>\n      <td>Amazon states that they will not retain, use, ...</td>\n    </tr>\n    <tr>\n      <th>3</th>\n      <td>Uber</td>\n      <td>What is the policy on returns in Uber?\\n</td>\n      <td>The Uber Terms of Service do not explicitly m...</td>\n    </tr>\n    <tr>\n      <th>4</th>\n      <td>TikTok</td>\n      <td>What company am I contracting with when I use...</td>\n      <td>If you are resident in the United Kingdom, you...</td>\n    </tr>\n    <tr>\n      <th>5</th>\n      <td>Google Search</td>\n      <td>What happens to my Google One membership afte...</td>\n      <td>After the promotional period (Offer Period) en...</td>\n    </tr>\n    <tr>\n      <th>6</th>\n      <td>Instagram</td>\n      <td>What is the maximum time it can take for Inst...</td>\n      <td>According to Instagram's policies, it can take...</td>\n    </tr>\n    <tr>\n      <th>7</th>\n      <td>AliExpress</td>\n      <td>What is the policy on the number of product l...</td>\n      <td>AliExpress reserves the right to place restri...</td>\n    </tr>\n    <tr>\n      <th>8</th>\n      <td>azuremarketplace.microsoft.com</td>\n      <td>What are the governing terms and conditions f...</td>\n      <td>If you purchase Azure services through a Micr...</td>\n    </tr>\n    <tr>\n      <th>9</th>\n      <td>Tradera</td>\n      <td>What kind of data does Tradera collect automa...</td>\n      <td>Tradera automatically collects information sen...</td>\n    </tr>\n    <tr>\n      <th>10</th>\n      <td>Mastodon</td>\n      <td>What is the policy regarding server shutdowns...</td>\n      <td>MastodonAll requires all servers to give users...</td>\n    </tr>\n    <tr>\n      <th>11</th>\n      <td>Telegram</td>\n      <td>What are the requirements for Telegram client...</td>\n      <td>Telegram clients are obligated to verify that ...</td>\n    </tr>\n    <tr>\n      <th>12</th>\n      <td>Qwant</td>\n      <td>How does Qwant rank the news articles display...</td>\n      <td>Qwant ranks news articles in the Qwant News se...</td>\n    </tr>\n    <tr>\n      <th>13</th>\n      <td>Zalando</td>\n      <td>What is Zalando's policy on returning items p...</td>\n      <td>Zalando offers a voluntary 100-day return opti...</td>\n    </tr>\n    <tr>\n      <th>14</th>\n      <td>Libro</td>\n      <td>What are the consequences of failing to pay s...</td>\n      <td>If you fail to pay your subscription charges o...</td>\n    </tr>\n    <tr>\n      <th>15</th>\n      <td>Temu</td>\n      <td>What is Temu's policy on returns and refunds?...</td>\n      <td>Temu offers a return and refund policy for all...</td>\n    </tr>\n    <tr>\n      <th>16</th>\n      <td>Fairbnb.coop</td>\n      <td>What data does Fairbnb.coop collect from user...</td>\n      <td>Fairbnb.coop collects internet-browsing techni...</td>\n    </tr>\n    <tr>\n      <th>17</th>\n      <td>Booking.com</td>\n      <td>Does Booking.com allow content that promotes ...</td>\n      <td>No, Booking.com prohibits content that promote...</td>\n    </tr>\n    <tr>\n      <th>18</th>\n      <td>Yandex Maps</td>\n      <td>What information does Yandex.Maps use to pers...</td>\n      <td>Yandex.Maps utilizes several data points to pe...</td>\n    </tr>\n    <tr>\n      <th>19</th>\n      <td>shopify.com</td>\n      <td>What happens to domain names purchased throug...</td>\n      <td>If you cancel your Shopify account, domain nam...</td>\n    </tr>\n    <tr>\n      <th>20</th>\n      <td>WeChat</td>\n      <td>What happens to a WeChat user's account if th...</td>\n      <td>If a WeChat user repeatedly violates the Commu...</td>\n    </tr>\n    <tr>\n      <th>21</th>\n      <td>Libro</td>\n      <td>What is the policy on refunding payments if I...</td>\n      <td>According to Libro's Subscription Agreement, i...</td>\n    </tr>\n    <tr>\n      <th>22</th>\n      <td>Telegram</td>\n      <td>What are the consequences of violating the Te...</td>\n      <td>If your app violates the Telegram API Terms of...</td>\n    </tr>\n    <tr>\n      <th>23</th>\n      <td>Crunchbase</td>\n      <td>What is Crunchbase's policy on the use of AI-...</td>\n      <td>Crunchbase provides access to information or d...</td>\n    </tr>\n    <tr>\n      <th>24</th>\n      <td>Google Maps</td>\n      <td>What happens if I disagree with Google Maps' ...</td>\n      <td>If you disagree with Google Maps' decision to ...</td>\n    </tr>\n    <tr>\n      <th>25</th>\n      <td>LinkedIn</td>\n      <td>What is the policy on refunds for LinkedIn Pr...</td>\n      <td>According to LinkedIn's User Agreement, all p...</td>\n    </tr>\n    <tr>\n      <th>26</th>\n      <td>TRIVAGO</td>\n      <td>What is TRIVAGO's policy on the deletion of m...</td>\n      <td>If you wish to delete your hotel's content fro...</td>\n    </tr>\n    <tr>\n      <th>27</th>\n      <td>La Pajara</td>\n      <td>What is the policy on user data collection at...</td>\n      <td>La PajaraCoopCycle collects certain informatio...</td>\n    </tr>\n    <tr>\n      <th>28</th>\n      <td>Local Services</td>\n      <td>What is the policy on disclosing information ...</td>\n      <td>Local Services by Google may disclose informat...</td>\n    </tr>\n    <tr>\n      <th>29</th>\n      <td>Spotify</td>\n      <td>What are Spotify's policies on content contai...</td>\n      <td>Spotify allows embedded advertising in podcast...</td>\n    </tr>\n    <tr>\n      <th>30</th>\n      <td>Blacklane</td>\n      <td>What are the different ways a user can commun...</td>\n      <td>Blacklane offers various communication channel...</td>\n    </tr>\n    <tr>\n      <th>31</th>\n      <td>TikTok</td>\n      <td>What are TikTok's policies on content that mi...</td>\n      <td>TikTok employs age restrictions on mature cont...</td>\n    </tr>\n    <tr>\n      <th>32</th>\n      <td>Tradera</td>\n      <td>What is the policy on closing accounts in Tra...</td>\n      <td>Tradera reserves the right to close accounts t...</td>\n    </tr>\n    <tr>\n      <th>33</th>\n      <td>Alibaba.com</td>\n      <td>What is the policy on refunds for Alibaba.com...</td>\n      <td>Except for specific circumstances outlined in ...</td>\n    </tr>\n    <tr>\n      <th>34</th>\n      <td>YouTube</td>\n      <td>What are YouTube's guidelines on posting cont...</td>\n      <td>YouTube prohibits the promotion or sale of fir...</td>\n    </tr>\n    <tr>\n      <th>35</th>\n      <td>Mastodon</td>\n      <td>What information about my account activity ca...</td>\n      <td>Mastodon.social retains the IP address associa...</td>\n    </tr>\n    <tr>\n      <th>36</th>\n      <td>Image Creator</td>\n      <td>What happens if I repeatedly violate the Code...</td>\n      <td>Repeatedly violating the Code of Conduct in Im...</td>\n    </tr>\n    <tr>\n      <th>37</th>\n      <td>Pinterest</td>\n      <td>What is the policy on using Pinterest for com...</td>\n      <td>If you want to use Pinterest for commercial pu...</td>\n    </tr>\n    <tr>\n      <th>38</th>\n      <td>Lieferando.de</td>\n      <td>Does Lieferando.de use paid advertising to in...</td>\n      <td>Yes, Lieferando.de offers sponsorship services...</td>\n    </tr>\n    <tr>\n      <th>39</th>\n      <td>azuremarketplace.microsoft.com</td>\n      <td>What are the terms and conditions governing t...</td>\n      <td>The Preview Supplemental Terms include additio...</td>\n    </tr>\n    <tr>\n      <th>0</th>\n      <td>MyTable</td>\n      <td>What happens if a restaurant using MyTable Gu...</td>\n      <td>If a restaurant using MyTable Guest Center fai...</td>\n    </tr>\n    <tr>\n      <th>1</th>\n      <td>MistralAI</td>\n      <td>What is Mistral AI’s policy on user data rete...</td>\n      <td>Mistral AI retains a user's prompts and output...</td>\n    </tr>\n    <tr>\n      <th>2</th>\n      <td>Google Play</td>\n      <td>What information about users who write review...</td>\n      <td>Google Play developers can see the user's name...</td>\n    </tr>\n    <tr>\n      <th>3</th>\n      <td>Snapchat</td>\n      <td>What is the policy on using Snapchat if I am ...</td>\n      <td>If you are using Snapchat on behalf of a busin...</td>\n    </tr>\n    <tr>\n      <th>4</th>\n      <td>Amazon</td>\n      <td>What factors does Amazon consider when choosi...</td>\n      <td>Amazon's \"Featured\" search results prioritize ...</td>\n    </tr>\n    <tr>\n      <th>5</th>\n      <td>AliExpress</td>\n      <td>What is the policy on returning products purc...</td>\n      <td>As an AliExpress Relevant Jurisdiction User, y...</td>\n    </tr>\n    <tr>\n      <th>6</th>\n      <td>Facebook</td>\n      <td>What are Facebook's policies on using content...</td>\n      <td>Facebook requires users to grant a non-exclus...</td>\n    </tr>\n    <tr>\n      <th>7</th>\n      <td>Otto</td>\n      <td>What is OttoOtto's liability policy if a reta...</td>\n      <td>OttoOtto's liability for data loss is limited ...</td>\n    </tr>\n    <tr>\n      <th>8</th>\n      <td>Google Maps</td>\n      <td>What happens if I disagree with Google Maps' ...</td>\n      <td>If you disagree with Google Maps' decision to ...</td>\n    </tr>\n    <tr>\n      <th>9</th>\n      <td>Houzz Pro</td>\n      <td>What is Houzz Pro's policy on disclosing pers...</td>\n      <td>Houzz Pro's data importer (Houzz Inc.) agrees ...</td>\n    </tr>\n  </tbody>\n</table>\n</div>"
     },
     "execution_count": 12,
     "metadata": {},
     "output_type": "execute_result"
    }
   ],
   "source": [
    "new_testset = pd.concat([new_testset, pd.DataFrame(outputs)])\n",
    "new_testset"
   ],
   "metadata": {
    "collapsed": false,
    "ExecuteTime": {
     "end_time": "2024-10-25T11:49:37.138314Z",
     "start_time": "2024-10-25T11:49:37.126341Z"
    }
   },
   "id": "7084ad8b32059860",
   "execution_count": 12
  },
  {
   "cell_type": "code",
   "outputs": [],
   "source": [
    "new_testset.to_excel('new_testset.xlsx', index=False)"
   ],
   "metadata": {
    "collapsed": false
   },
   "id": "ba250496da909ced"
  }
 ],
 "metadata": {
  "kernelspec": {
   "display_name": "Python 3",
   "language": "python",
   "name": "python3"
  },
  "language_info": {
   "codemirror_mode": {
    "name": "ipython",
    "version": 2
   },
   "file_extension": ".py",
   "mimetype": "text/x-python",
   "name": "python",
   "nbconvert_exporter": "python",
   "pygments_lexer": "ipython2",
   "version": "2.7.6"
  }
 },
 "nbformat": 4,
 "nbformat_minor": 5
}
