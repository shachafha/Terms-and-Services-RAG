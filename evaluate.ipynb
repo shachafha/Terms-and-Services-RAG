{
 "cells": [
  {
   "cell_type": "code",
   "outputs": [],
   "source": [
    "import google.generativeai as genai\n",
    "import pandas as pd\n",
    "import time\n",
    "from datasets import Dataset\n",
    "from tqdm.auto import tqdm\n",
    "from langchain.prompts.chat import (ChatPromptTemplate, HumanMessagePromptTemplate)\n",
    "\n",
    "with open(\"gemini_api_key.txt\") as f:\n",
    "    gemini_api_key = f.read().strip()\n",
    "genai.configure(api_key=gemini_api_key)\n",
    "\n",
    "evaluator = genai.GenerativeModel(model_name='gemini-1.5-flash')"
   ],
   "metadata": {
    "collapsed": false,
    "ExecuteTime": {
     "end_time": "2024-10-25T13:31:54.822595Z",
     "start_time": "2024-10-25T13:31:54.818406Z"
    }
   },
   "id": "5cc9f2fda78e230f",
   "execution_count": 7
  },
  {
   "cell_type": "code",
   "outputs": [],
   "source": [
    "EVALUATION_PROMPT = \"\"\"### Task Description:\n",
    "An instruction (might include an input inside it), a response to evaluate, a reference answer that gets a score of 5, and a score rubric representing multiple evaluation criteria are given.\n",
    "1. Write detailed feedback that assesses the quality of the response strictly based on the given score rubrics below. Additional information is not a disadvantage unless it negatively impacts clarity or relevance.\n",
    "2. After writing feedback, provide a score that is an integer between 1 and 5 for each evaluation criterion.\n",
    "3. After writing the scores, provide an overall correctness score (Correct or Incorrect) if the response, in the context of a yes/no question, is correct.\n",
    "4. The output format should look as follows: \"Feedback: {{write feedback for each criterion}} [SCORE_FACTUALITY] {{score for factuality}} [SCORE_RELEVANCE] {{score for relevance}} [SCORE_COMPLETENESS] {{score for completeness}} [SCORE_CLARITY] {{score for clarity}} [SCORE_CONFIDENCE] {{score for confidence}} [CORRECTNESS] {{Correct or Incorrect}}\"\n",
    "5. Please do not generate any other opening, closing, or explanations. Be sure to include [SCORE_FACTUALITY], [SCORE_RELEVANCE], [SCORE_COMPLETENESS], [SCORE_CLARITY], [SCORE_CONFIDENCE], and [CORRECTNESS] in your output.\n",
    "\n",
    "### The instruction to evaluate:\n",
    "{instruction}\n",
    "\n",
    "### Response to evaluate:\n",
    "{response}\n",
    "\n",
    "### Reference Answer (Score 5):\n",
    "{reference_answer}\n",
    "\n",
    "### Score Rubrics:\n",
    "1. **Factuality**: Is the response correct, accurate, and factual based on the reference answer?\n",
    "   - Score 1: Completely incorrect, inaccurate, and/or not factual.\n",
    "   - Score 2: Mostly incorrect, inaccurate, and/or not factual.\n",
    "   - Score 3: Somewhat correct, accurate, and/or factual.\n",
    "   - Score 4: Mostly correct, accurate, and factual.\n",
    "   - Score 5: Completely correct, accurate, and factual.\n",
    "\n",
    "2. **Relevance**: Does the response stay focused on the instruction and provide relevant information without introducing unnecessary or off-topic content?\n",
    "   - Score 1: Completely irrelevant to the instruction or question.\n",
    "   - Score 2: Mostly irrelevant with some on-topic information.\n",
    "   - Score 3: Somewhat relevant but introduces some unnecessary information.\n",
    "   - Score 4: Mostly relevant with little unnecessary information.\n",
    "   - Score 5: Fully relevant and focused on the instruction.\n",
    "\n",
    "3. **Completeness**: Does the response thoroughly cover all parts of the question or instruction without omitting important details, and without merely directing the reader to consult the T&C document?\n",
    "   - Score 1: Completely incomplete, misses all key points.\n",
    "   - Score 2: Misses most key points, partially complete.\n",
    "   - Score 3: Addresses some key points but is incomplete in other aspects.\n",
    "   - Score 4: Addresses most key points with minor omissions.\n",
    "   - Score 5: Fully complete, addresses all key points directly without deferring to the T&C document.\n",
    "\n",
    "4. **Clarity**: Is the response clear and easy to understand without being overly complex or ambiguous?\n",
    "   - Score 1: Completely unclear, hard to understand.\n",
    "   - Score 2: Mostly unclear or difficult to follow.\n",
    "   - Score 3: Somewhat clear but may include ambiguous or confusing parts.\n",
    "   - Score 4: Mostly clear with minor clarity issues.\n",
    "   - Score 5: Completely clear and easy to understand.\n",
    "\n",
    "5. **Confidence**: How confident is the response in providing accurate information based on the reference answer?\n",
    "   - Score 1: Completely unsure or lacking confidence.\n",
    "   - Score 2: Mostly unsure, indicates low confidence.\n",
    "   - Score 3: Somewhat confident but lacks strong evidence.\n",
    "   - Score 4: Mostly confident with some solid backing.\n",
    "   - Score 5: Completely confident, well-supported by evidence.\n",
    "\n",
    "### Feedback:\"\"\"\n",
    "\n",
    "evaluation_prompt_template = ChatPromptTemplate.from_messages([HumanMessagePromptTemplate.from_template(EVALUATION_PROMPT)])"
   ],
   "metadata": {
    "collapsed": false,
    "ExecuteTime": {
     "end_time": "2024-10-25T13:58:51.179652Z",
     "start_time": "2024-10-25T13:58:51.173628Z"
    }
   },
   "id": "62a307e3700d6f8e",
   "execution_count": 13
  },
  {
   "cell_type": "code",
   "outputs": [],
   "source": [
    "def load_test_set(file_path: str, rag_flag) -> Dataset:\n",
    "    \"\"\"\n",
    "    Load responses from an Excel file and transform them into a Dataset object.\n",
    "\n",
    "    Parameters:\n",
    "    - file_path (str): The path to the Excel file containing the responses.\n",
    "    - rag_flag (bool): A flag indicating whether to evaluate the RAG Answer.\n",
    "\n",
    "    Returns:\n",
    "    - Dataset: A Dataset object containing the transformed data.\n",
    "    \"\"\"\n",
    "    # Load the Excel file\n",
    "    result_df = pd.read_excel(file_path)\n",
    "    # Filter and rename the necessary columns\n",
    "    result_df = result_df[['Question', 'Company', 'Context', 'RAG Answer', 'Direct Answer', 'Right Answer']]\n",
    "\n",
    "    # Transform the DataFrame into the desired format\n",
    "    testset = []\n",
    "    for index, row in result_df.iterrows():\n",
    "        question = row['Question']\n",
    "        answer = row['RAG Answer'] if rag_flag else row['Direct Answer']\n",
    "        ground_truth = row['Right Answer'] \n",
    "        testset.append({\n",
    "            \"question\": question,\n",
    "            \"generated_answer\": answer,\n",
    "            \"true_answer\": ground_truth\n",
    "        })\n",
    "    display(pd.DataFrame(testset))\n",
    "    # Create a Dataset object from the data\n",
    "    return Dataset.from_list(testset)"
   ],
   "metadata": {
    "collapsed": false,
    "ExecuteTime": {
     "end_time": "2024-10-25T13:49:38.798495Z",
     "start_time": "2024-10-25T13:49:38.787011Z"
    }
   },
   "id": "5235365055f2de34",
   "execution_count": 12
  },
  {
   "cell_type": "code",
   "outputs": [],
   "source": [
    "def extract_evaluation_metrics(eval_response_text):\n",
    "    \"\"\"\n",
    "    Extract feedback, scores, and correctness from evaluation response text.\n",
    "    \n",
    "    Parameters:\n",
    "    eval_response_text (str): The evaluation response text to parse.\n",
    "    \n",
    "    Returns:\n",
    "    dict: A dictionary containing the feedback, scores, and correctness.\n",
    "    \"\"\"\n",
    "    text = eval_response_text\n",
    "    \n",
    "    # Extract feedback (before the first score marker)\n",
    "    feedback = text.split(\"[SCORE_FACTUALITY]\")[0].strip()\n",
    "    \n",
    "    # Extract each score and correctness using the markers\n",
    "    factuality_score = int(text.split(\"[SCORE_FACTUALITY]\")[1].split(\"[SCORE_RELEVANCE]\")[0].strip())\n",
    "    relevance_score = int(text.split(\"[SCORE_RELEVANCE]\")[1].split(\"[SCORE_COMPLETENESS]\")[0].strip())\n",
    "    completeness_score = int(text.split(\"[SCORE_COMPLETENESS]\")[1].split(\"[SCORE_CLARITY]\")[0].strip())\n",
    "    clarity_score = int(text.split(\"[SCORE_CLARITY]\")[1].split(\"[SCORE_CONFIDENCE]\")[0].strip())\n",
    "    confidence_score = int(text.split(\"[SCORE_CONFIDENCE]\")[1].split(\"[CORRECTNESS]\")[0].strip())\n",
    "    correctness = text.split(\"[CORRECTNESS]\")[1].strip()\n",
    "    \n",
    "    return {\n",
    "        \"feedback\": feedback,\n",
    "        \"factuality_score\": factuality_score,\n",
    "        \"relevance_score\": relevance_score,\n",
    "        \"completeness_score\": completeness_score,\n",
    "        \"clarity_score\": clarity_score,\n",
    "        \"confidence_score\": confidence_score,\n",
    "        \"correctness\": correctness\n",
    "    }\n",
    "\n",
    "def evaluate(testset, evaluator):\n",
    "    evaluation = []\n",
    "    count = 0\n",
    "    batch_size = 5  # Number of rows to process at a time\n",
    "    for experiment in tqdm(testset):\n",
    "        # Create the evaluation prompt with the new metrics\n",
    "        evaluation_prompt = evaluation_prompt_template.format_messages(\n",
    "            instruction=experiment[\"question\"],\n",
    "            response=experiment[\"generated_answer\"],\n",
    "            reference_answer=experiment[\"true_answer\"],\n",
    "        )\n",
    "        \n",
    "        # Generate the evaluation response from the evaluator\n",
    "        eval_response = evaluator.generate_content(str(evaluation_prompt))\n",
    "        \n",
    "        try:\n",
    "            eval_metrics = extract_evaluation_metrics(eval_response.text)\n",
    "            # Add the extracted evaluation metrics to the experiment\n",
    "            experiment[\"eval_factuality\"] = eval_metrics[\"factuality_score\"]\n",
    "            experiment[\"eval_relevance\"] = eval_metrics[\"relevance_score\"]\n",
    "            experiment[\"eval_completeness\"] = eval_metrics[\"completeness_score\"]\n",
    "            experiment[\"eval_clarity\"] = eval_metrics[\"clarity_score\"]\n",
    "            experiment[\"eval_confidence\"] = eval_metrics[\"confidence_score\"]\n",
    "            experiment[\"eval_correctness\"] = eval_metrics[\"correctness\"]\n",
    "            experiment[\"eval_feedback\"] = eval_metrics[\"feedback\"]\n",
    "            evaluation.append(experiment)\n",
    "            \n",
    "        except Exception as e:\n",
    "            # Handle any unexpected error and assign default values\n",
    "            print(f\"Error processing evaluation: {e}\")\n",
    "        if (count + 1) % batch_size == 0:\n",
    "            time.sleep(30)  \n",
    "        count += 1\n",
    "    return evaluation\n"
   ],
   "metadata": {
    "collapsed": false,
    "ExecuteTime": {
     "end_time": "2024-10-25T14:09:11.927912Z",
     "start_time": "2024-10-25T14:09:11.919016Z"
    }
   },
   "id": "52e0b270ba882144",
   "execution_count": 19
  },
  {
   "cell_type": "code",
   "outputs": [
    {
     "data": {
      "text/plain": "                                             question  \\\n0    What is the policy on retaining driver data a...   \n1    How long does Shopify keep store information ...   \n2    What is Amazon's policy regarding the storage...   \n3            What is the policy on returns in Uber?\\n   \n4    What company am I contracting with when I use...   \n5    What happens to my Google One membership afte...   \n6    What is the maximum time it can take for Inst...   \n7    What is the policy on the number of product l...   \n8    What are the governing terms and conditions f...   \n9    What kind of data does Tradera collect automa...   \n10   What is the policy regarding server shutdowns...   \n11   What are the requirements for Telegram client...   \n12   How does Qwant rank the news articles display...   \n13   What is Zalando's policy on returning items p...   \n14   What are the consequences of failing to pay s...   \n15   What is Temu's policy on returns and refunds?...   \n16   What data does Fairbnb.coop collect from user...   \n17   Does Booking.com allow content that promotes ...   \n18   What information does Yandex.Maps use to pers...   \n19   What happens to domain names purchased throug...   \n20   What happens to a WeChat user's account if th...   \n21   What is the policy on refunding payments if I...   \n22   What are the consequences of violating the Te...   \n23   What is Crunchbase's policy on the use of AI-...   \n24   What happens if I disagree with Google Maps' ...   \n25   What is the policy on refunds for LinkedIn Pr...   \n26   What is TRIVAGO's policy on the deletion of m...   \n27   What is the policy on user data collection at...   \n28   What is the policy on disclosing information ...   \n29   What are Spotify's policies on content contai...   \n30   What are the different ways a user can commun...   \n31   What are TikTok's policies on content that mi...   \n32   What is the policy on closing accounts in Tra...   \n33   What is the policy on refunds for Alibaba.com...   \n34   What are YouTube's guidelines on posting cont...   \n35   What information about my account activity ca...   \n36   What happens if I repeatedly violate the Code...   \n37   What is the policy on using Pinterest for com...   \n38   Does Lieferando.de use paid advertising to in...   \n39   What are the terms and conditions governing t...   \n40   What happens if a restaurant using MyTable Gu...   \n41   What is Mistral AI’s policy on user data rete...   \n42   What information about users who write review...   \n43   What is the policy on using Snapchat if I am ...   \n44   What factors does Amazon consider when choosi...   \n45   What is the policy on returning products purc...   \n46   What are Facebook's policies on using content...   \n47   What is OttoOtto's liability policy if a reta...   \n48   What happens if I disagree with Google Maps' ...   \n49   What is Houzz Pro's policy on disclosing pers...   \n\n                                     generated_answer  \\\n0   I do not have access to real-time information,...   \n1   Unfortunately, I do not have access to private...   \n2   I do not have access to real-time information,...   \n3   I do not have access to real-time information,...   \n4   If you are a resident of the UK and use TikTok...   \n5   I do not have access to real-time information,...   \n6   Unfortunately, Instagram doesn't explicitly st...   \n7   Unfortunately, I do not have access to real-ti...   \n8   While I can provide general information about ...   \n9   I do not have access to real-time information,...   \n10  I do not have access to the specific Terms and...   \n11  I can't give you specific technical details on...   \n12  Unfortunately, Qwant does not publicly disclos...   \n13  I do not have access to real-time information,...   \n14  I do not have access to real-time information,...   \n15  I do not have access to real-time information,...   \n16  I do not have access to real-time information,...   \n17  Booking.com's Terms and Conditions are quite c...   \n18  Unfortunately, I do not have access to the spe...   \n19  Unfortunately, I can't provide specific legal ...   \n20  WeChat's Community Guidelines are very strict ...   \n21  I do not have access to real-time information,...   \n22  I cannot provide specific legal advice, includ...   \n23  I do not have access to real-time information,...   \n24  I understand your concern. Unfortunately, I ca...   \n25  I do not have access to real-time information,...   \n26  I do not have access to real-time information,...   \n27  I do not have access to the internet to retrie...   \n28  I do not have access to real-time information,...   \n29  Spotify's official policy on embedded advertis...   \n30  I do not have access to real-time information,...   \n31  TikTok has a robust set of policies designed t...   \n32  I do not have access to real-time information,...   \n33  I do not have access to real-time information,...   \n34  YouTube has strict guidelines regarding conten...   \n35  I do not have access to the specific details o...   \n36  I do not have access to real-time information,...   \n37  Pinterest's Terms of Service allow for commerc...   \n38  I do not have access to real-time information,...   \n39  Unfortunately, I cannot provide specific legal...   \n40  I do not have access to real-time information,...   \n41  I do not have access to real-time information,...   \n42  Google Play developers can see **limited infor...   \n43  I do not have access to real-time information,...   \n44  I do not have access to Amazon's internal algo...   \n45  I do not have access to real-time information,...   \n46  Facebook's policies on using the content you c...   \n47  I do not have access to the specific Terms and...   \n48  I cannot provide legal advice, and the Digital...   \n49  I do not have access to real-time information,...   \n\n                                          true_answer  \n0    After a driver's account is closed, Bolt Head...  \n1   Shopify retains store information for two year...  \n2   Amazon states that they will not retain, use, ...  \n3    The Uber Terms of Service do not explicitly m...  \n4   If you are resident in the United Kingdom, you...  \n5   After the promotional period (Offer Period) en...  \n6   According to Instagram's policies, it can take...  \n7    AliExpress reserves the right to place restri...  \n8    If you purchase Azure services through a Micr...  \n9   Tradera automatically collects information sen...  \n10  MastodonAll requires all servers to give users...  \n11  Telegram clients are obligated to verify that ...  \n12  Qwant ranks news articles in the Qwant News se...  \n13  Zalando offers a voluntary 100-day return opti...  \n14  If you fail to pay your subscription charges o...  \n15  Temu offers a return and refund policy for all...  \n16  Fairbnb.coop collects internet-browsing techni...  \n17  No, Booking.com prohibits content that promote...  \n18  Yandex.Maps utilizes several data points to pe...  \n19  If you cancel your Shopify account, domain nam...  \n20  If a WeChat user repeatedly violates the Commu...  \n21  According to Libro's Subscription Agreement, i...  \n22  If your app violates the Telegram API Terms of...  \n23  Crunchbase provides access to information or d...  \n24  If you disagree with Google Maps' decision to ...  \n25   According to LinkedIn's User Agreement, all p...  \n26  If you wish to delete your hotel's content fro...  \n27  La PajaraCoopCycle collects certain informatio...  \n28  Local Services by Google may disclose informat...  \n29  Spotify allows embedded advertising in podcast...  \n30  Blacklane offers various communication channel...  \n31  TikTok employs age restrictions on mature cont...  \n32  Tradera reserves the right to close accounts t...  \n33  Except for specific circumstances outlined in ...  \n34  YouTube prohibits the promotion or sale of fir...  \n35  Mastodon.social retains the IP address associa...  \n36  Repeatedly violating the Code of Conduct in Im...  \n37  If you want to use Pinterest for commercial pu...  \n38  Yes, Lieferando.de offers sponsorship services...  \n39  The Preview Supplemental Terms include additio...  \n40  If a restaurant using MyTable Guest Center fai...  \n41  Mistral AI retains a user's prompts and output...  \n42  Google Play developers can see the user's name...  \n43  If you are using Snapchat on behalf of a busin...  \n44  Amazon's \"Featured\" search results prioritize ...  \n45  As an AliExpress Relevant Jurisdiction User, y...  \n46   Facebook requires users to grant a non-exclus...  \n47  OttoOtto's liability for data loss is limited ...  \n48  If you disagree with Google Maps' decision to ...  \n49  Houzz Pro's data importer (Houzz Inc.) agrees ...  ",
      "text/html": "<div>\n<style scoped>\n    .dataframe tbody tr th:only-of-type {\n        vertical-align: middle;\n    }\n\n    .dataframe tbody tr th {\n        vertical-align: top;\n    }\n\n    .dataframe thead th {\n        text-align: right;\n    }\n</style>\n<table border=\"1\" class=\"dataframe\">\n  <thead>\n    <tr style=\"text-align: right;\">\n      <th></th>\n      <th>question</th>\n      <th>generated_answer</th>\n      <th>true_answer</th>\n    </tr>\n  </thead>\n  <tbody>\n    <tr>\n      <th>0</th>\n      <td>What is the policy on retaining driver data a...</td>\n      <td>I do not have access to real-time information,...</td>\n      <td>After a driver's account is closed, Bolt Head...</td>\n    </tr>\n    <tr>\n      <th>1</th>\n      <td>How long does Shopify keep store information ...</td>\n      <td>Unfortunately, I do not have access to private...</td>\n      <td>Shopify retains store information for two year...</td>\n    </tr>\n    <tr>\n      <th>2</th>\n      <td>What is Amazon's policy regarding the storage...</td>\n      <td>I do not have access to real-time information,...</td>\n      <td>Amazon states that they will not retain, use, ...</td>\n    </tr>\n    <tr>\n      <th>3</th>\n      <td>What is the policy on returns in Uber?\\n</td>\n      <td>I do not have access to real-time information,...</td>\n      <td>The Uber Terms of Service do not explicitly m...</td>\n    </tr>\n    <tr>\n      <th>4</th>\n      <td>What company am I contracting with when I use...</td>\n      <td>If you are a resident of the UK and use TikTok...</td>\n      <td>If you are resident in the United Kingdom, you...</td>\n    </tr>\n    <tr>\n      <th>5</th>\n      <td>What happens to my Google One membership afte...</td>\n      <td>I do not have access to real-time information,...</td>\n      <td>After the promotional period (Offer Period) en...</td>\n    </tr>\n    <tr>\n      <th>6</th>\n      <td>What is the maximum time it can take for Inst...</td>\n      <td>Unfortunately, Instagram doesn't explicitly st...</td>\n      <td>According to Instagram's policies, it can take...</td>\n    </tr>\n    <tr>\n      <th>7</th>\n      <td>What is the policy on the number of product l...</td>\n      <td>Unfortunately, I do not have access to real-ti...</td>\n      <td>AliExpress reserves the right to place restri...</td>\n    </tr>\n    <tr>\n      <th>8</th>\n      <td>What are the governing terms and conditions f...</td>\n      <td>While I can provide general information about ...</td>\n      <td>If you purchase Azure services through a Micr...</td>\n    </tr>\n    <tr>\n      <th>9</th>\n      <td>What kind of data does Tradera collect automa...</td>\n      <td>I do not have access to real-time information,...</td>\n      <td>Tradera automatically collects information sen...</td>\n    </tr>\n    <tr>\n      <th>10</th>\n      <td>What is the policy regarding server shutdowns...</td>\n      <td>I do not have access to the specific Terms and...</td>\n      <td>MastodonAll requires all servers to give users...</td>\n    </tr>\n    <tr>\n      <th>11</th>\n      <td>What are the requirements for Telegram client...</td>\n      <td>I can't give you specific technical details on...</td>\n      <td>Telegram clients are obligated to verify that ...</td>\n    </tr>\n    <tr>\n      <th>12</th>\n      <td>How does Qwant rank the news articles display...</td>\n      <td>Unfortunately, Qwant does not publicly disclos...</td>\n      <td>Qwant ranks news articles in the Qwant News se...</td>\n    </tr>\n    <tr>\n      <th>13</th>\n      <td>What is Zalando's policy on returning items p...</td>\n      <td>I do not have access to real-time information,...</td>\n      <td>Zalando offers a voluntary 100-day return opti...</td>\n    </tr>\n    <tr>\n      <th>14</th>\n      <td>What are the consequences of failing to pay s...</td>\n      <td>I do not have access to real-time information,...</td>\n      <td>If you fail to pay your subscription charges o...</td>\n    </tr>\n    <tr>\n      <th>15</th>\n      <td>What is Temu's policy on returns and refunds?...</td>\n      <td>I do not have access to real-time information,...</td>\n      <td>Temu offers a return and refund policy for all...</td>\n    </tr>\n    <tr>\n      <th>16</th>\n      <td>What data does Fairbnb.coop collect from user...</td>\n      <td>I do not have access to real-time information,...</td>\n      <td>Fairbnb.coop collects internet-browsing techni...</td>\n    </tr>\n    <tr>\n      <th>17</th>\n      <td>Does Booking.com allow content that promotes ...</td>\n      <td>Booking.com's Terms and Conditions are quite c...</td>\n      <td>No, Booking.com prohibits content that promote...</td>\n    </tr>\n    <tr>\n      <th>18</th>\n      <td>What information does Yandex.Maps use to pers...</td>\n      <td>Unfortunately, I do not have access to the spe...</td>\n      <td>Yandex.Maps utilizes several data points to pe...</td>\n    </tr>\n    <tr>\n      <th>19</th>\n      <td>What happens to domain names purchased throug...</td>\n      <td>Unfortunately, I can't provide specific legal ...</td>\n      <td>If you cancel your Shopify account, domain nam...</td>\n    </tr>\n    <tr>\n      <th>20</th>\n      <td>What happens to a WeChat user's account if th...</td>\n      <td>WeChat's Community Guidelines are very strict ...</td>\n      <td>If a WeChat user repeatedly violates the Commu...</td>\n    </tr>\n    <tr>\n      <th>21</th>\n      <td>What is the policy on refunding payments if I...</td>\n      <td>I do not have access to real-time information,...</td>\n      <td>According to Libro's Subscription Agreement, i...</td>\n    </tr>\n    <tr>\n      <th>22</th>\n      <td>What are the consequences of violating the Te...</td>\n      <td>I cannot provide specific legal advice, includ...</td>\n      <td>If your app violates the Telegram API Terms of...</td>\n    </tr>\n    <tr>\n      <th>23</th>\n      <td>What is Crunchbase's policy on the use of AI-...</td>\n      <td>I do not have access to real-time information,...</td>\n      <td>Crunchbase provides access to information or d...</td>\n    </tr>\n    <tr>\n      <th>24</th>\n      <td>What happens if I disagree with Google Maps' ...</td>\n      <td>I understand your concern. Unfortunately, I ca...</td>\n      <td>If you disagree with Google Maps' decision to ...</td>\n    </tr>\n    <tr>\n      <th>25</th>\n      <td>What is the policy on refunds for LinkedIn Pr...</td>\n      <td>I do not have access to real-time information,...</td>\n      <td>According to LinkedIn's User Agreement, all p...</td>\n    </tr>\n    <tr>\n      <th>26</th>\n      <td>What is TRIVAGO's policy on the deletion of m...</td>\n      <td>I do not have access to real-time information,...</td>\n      <td>If you wish to delete your hotel's content fro...</td>\n    </tr>\n    <tr>\n      <th>27</th>\n      <td>What is the policy on user data collection at...</td>\n      <td>I do not have access to the internet to retrie...</td>\n      <td>La PajaraCoopCycle collects certain informatio...</td>\n    </tr>\n    <tr>\n      <th>28</th>\n      <td>What is the policy on disclosing information ...</td>\n      <td>I do not have access to real-time information,...</td>\n      <td>Local Services by Google may disclose informat...</td>\n    </tr>\n    <tr>\n      <th>29</th>\n      <td>What are Spotify's policies on content contai...</td>\n      <td>Spotify's official policy on embedded advertis...</td>\n      <td>Spotify allows embedded advertising in podcast...</td>\n    </tr>\n    <tr>\n      <th>30</th>\n      <td>What are the different ways a user can commun...</td>\n      <td>I do not have access to real-time information,...</td>\n      <td>Blacklane offers various communication channel...</td>\n    </tr>\n    <tr>\n      <th>31</th>\n      <td>What are TikTok's policies on content that mi...</td>\n      <td>TikTok has a robust set of policies designed t...</td>\n      <td>TikTok employs age restrictions on mature cont...</td>\n    </tr>\n    <tr>\n      <th>32</th>\n      <td>What is the policy on closing accounts in Tra...</td>\n      <td>I do not have access to real-time information,...</td>\n      <td>Tradera reserves the right to close accounts t...</td>\n    </tr>\n    <tr>\n      <th>33</th>\n      <td>What is the policy on refunds for Alibaba.com...</td>\n      <td>I do not have access to real-time information,...</td>\n      <td>Except for specific circumstances outlined in ...</td>\n    </tr>\n    <tr>\n      <th>34</th>\n      <td>What are YouTube's guidelines on posting cont...</td>\n      <td>YouTube has strict guidelines regarding conten...</td>\n      <td>YouTube prohibits the promotion or sale of fir...</td>\n    </tr>\n    <tr>\n      <th>35</th>\n      <td>What information about my account activity ca...</td>\n      <td>I do not have access to the specific details o...</td>\n      <td>Mastodon.social retains the IP address associa...</td>\n    </tr>\n    <tr>\n      <th>36</th>\n      <td>What happens if I repeatedly violate the Code...</td>\n      <td>I do not have access to real-time information,...</td>\n      <td>Repeatedly violating the Code of Conduct in Im...</td>\n    </tr>\n    <tr>\n      <th>37</th>\n      <td>What is the policy on using Pinterest for com...</td>\n      <td>Pinterest's Terms of Service allow for commerc...</td>\n      <td>If you want to use Pinterest for commercial pu...</td>\n    </tr>\n    <tr>\n      <th>38</th>\n      <td>Does Lieferando.de use paid advertising to in...</td>\n      <td>I do not have access to real-time information,...</td>\n      <td>Yes, Lieferando.de offers sponsorship services...</td>\n    </tr>\n    <tr>\n      <th>39</th>\n      <td>What are the terms and conditions governing t...</td>\n      <td>Unfortunately, I cannot provide specific legal...</td>\n      <td>The Preview Supplemental Terms include additio...</td>\n    </tr>\n    <tr>\n      <th>40</th>\n      <td>What happens if a restaurant using MyTable Gu...</td>\n      <td>I do not have access to real-time information,...</td>\n      <td>If a restaurant using MyTable Guest Center fai...</td>\n    </tr>\n    <tr>\n      <th>41</th>\n      <td>What is Mistral AI’s policy on user data rete...</td>\n      <td>I do not have access to real-time information,...</td>\n      <td>Mistral AI retains a user's prompts and output...</td>\n    </tr>\n    <tr>\n      <th>42</th>\n      <td>What information about users who write review...</td>\n      <td>Google Play developers can see **limited infor...</td>\n      <td>Google Play developers can see the user's name...</td>\n    </tr>\n    <tr>\n      <th>43</th>\n      <td>What is the policy on using Snapchat if I am ...</td>\n      <td>I do not have access to real-time information,...</td>\n      <td>If you are using Snapchat on behalf of a busin...</td>\n    </tr>\n    <tr>\n      <th>44</th>\n      <td>What factors does Amazon consider when choosi...</td>\n      <td>I do not have access to Amazon's internal algo...</td>\n      <td>Amazon's \"Featured\" search results prioritize ...</td>\n    </tr>\n    <tr>\n      <th>45</th>\n      <td>What is the policy on returning products purc...</td>\n      <td>I do not have access to real-time information,...</td>\n      <td>As an AliExpress Relevant Jurisdiction User, y...</td>\n    </tr>\n    <tr>\n      <th>46</th>\n      <td>What are Facebook's policies on using content...</td>\n      <td>Facebook's policies on using the content you c...</td>\n      <td>Facebook requires users to grant a non-exclus...</td>\n    </tr>\n    <tr>\n      <th>47</th>\n      <td>What is OttoOtto's liability policy if a reta...</td>\n      <td>I do not have access to the specific Terms and...</td>\n      <td>OttoOtto's liability for data loss is limited ...</td>\n    </tr>\n    <tr>\n      <th>48</th>\n      <td>What happens if I disagree with Google Maps' ...</td>\n      <td>I cannot provide legal advice, and the Digital...</td>\n      <td>If you disagree with Google Maps' decision to ...</td>\n    </tr>\n    <tr>\n      <th>49</th>\n      <td>What is Houzz Pro's policy on disclosing pers...</td>\n      <td>I do not have access to real-time information,...</td>\n      <td>Houzz Pro's data importer (Houzz Inc.) agrees ...</td>\n    </tr>\n  </tbody>\n</table>\n</div>"
     },
     "metadata": {},
     "output_type": "display_data"
    },
    {
     "data": {
      "text/plain": "  0%|          | 0/50 [00:00<?, ?it/s]",
      "application/vnd.jupyter.widget-view+json": {
       "version_major": 2,
       "version_minor": 0,
       "model_id": "567555912af64aabb3de231d91b47eec"
      }
     },
     "metadata": {},
     "output_type": "display_data"
    },
    {
     "data": {
      "text/plain": "                                             question  \\\n0    What is the policy on retaining driver data a...   \n1    How long does Shopify keep store information ...   \n2    What is Amazon's policy regarding the storage...   \n3            What is the policy on returns in Uber?\\n   \n4    What company am I contracting with when I use...   \n5    What happens to my Google One membership afte...   \n6    What is the maximum time it can take for Inst...   \n7    What is the policy on the number of product l...   \n8    What are the governing terms and conditions f...   \n9    What kind of data does Tradera collect automa...   \n10   What is the policy regarding server shutdowns...   \n11   What are the requirements for Telegram client...   \n12   How does Qwant rank the news articles display...   \n13   What is Zalando's policy on returning items p...   \n14   What are the consequences of failing to pay s...   \n15   What is Temu's policy on returns and refunds?...   \n16   What data does Fairbnb.coop collect from user...   \n17   Does Booking.com allow content that promotes ...   \n18   What information does Yandex.Maps use to pers...   \n19   What happens to domain names purchased throug...   \n20   What happens to a WeChat user's account if th...   \n21   What is the policy on refunding payments if I...   \n22   What are the consequences of violating the Te...   \n23   What is Crunchbase's policy on the use of AI-...   \n24   What happens if I disagree with Google Maps' ...   \n25   What is the policy on refunds for LinkedIn Pr...   \n26   What is TRIVAGO's policy on the deletion of m...   \n27   What is the policy on user data collection at...   \n28   What is the policy on disclosing information ...   \n29   What are Spotify's policies on content contai...   \n30   What are the different ways a user can commun...   \n31   What are TikTok's policies on content that mi...   \n32   What is the policy on closing accounts in Tra...   \n33   What is the policy on refunds for Alibaba.com...   \n34   What are YouTube's guidelines on posting cont...   \n35   What information about my account activity ca...   \n36   What happens if I repeatedly violate the Code...   \n37   What is the policy on using Pinterest for com...   \n38   Does Lieferando.de use paid advertising to in...   \n39   What are the terms and conditions governing t...   \n40   What happens if a restaurant using MyTable Gu...   \n41   What is Mistral AI’s policy on user data rete...   \n42   What information about users who write review...   \n43   What is the policy on using Snapchat if I am ...   \n44   What factors does Amazon consider when choosi...   \n45   What is the policy on returning products purc...   \n46   What are Facebook's policies on using content...   \n47   What is OttoOtto's liability policy if a reta...   \n48   What happens if I disagree with Google Maps' ...   \n49   What is Houzz Pro's policy on disclosing pers...   \n\n                                     generated_answer  \\\n0   I do not have access to real-time information,...   \n1   Unfortunately, I do not have access to private...   \n2   I do not have access to real-time information,...   \n3   I do not have access to real-time information,...   \n4   If you are a resident of the UK and use TikTok...   \n5   I do not have access to real-time information,...   \n6   Unfortunately, Instagram doesn't explicitly st...   \n7   Unfortunately, I do not have access to real-ti...   \n8   While I can provide general information about ...   \n9   I do not have access to real-time information,...   \n10  I do not have access to the specific Terms and...   \n11  I can't give you specific technical details on...   \n12  Unfortunately, Qwant does not publicly disclos...   \n13  I do not have access to real-time information,...   \n14  I do not have access to real-time information,...   \n15  I do not have access to real-time information,...   \n16  I do not have access to real-time information,...   \n17  Booking.com's Terms and Conditions are quite c...   \n18  Unfortunately, I do not have access to the spe...   \n19  Unfortunately, I can't provide specific legal ...   \n20  WeChat's Community Guidelines are very strict ...   \n21  I do not have access to real-time information,...   \n22  I cannot provide specific legal advice, includ...   \n23  I do not have access to real-time information,...   \n24  I understand your concern. Unfortunately, I ca...   \n25  I do not have access to real-time information,...   \n26  I do not have access to real-time information,...   \n27  I do not have access to the internet to retrie...   \n28  I do not have access to real-time information,...   \n29  Spotify's official policy on embedded advertis...   \n30  I do not have access to real-time information,...   \n31  TikTok has a robust set of policies designed t...   \n32  I do not have access to real-time information,...   \n33  I do not have access to real-time information,...   \n34  YouTube has strict guidelines regarding conten...   \n35  I do not have access to the specific details o...   \n36  I do not have access to real-time information,...   \n37  Pinterest's Terms of Service allow for commerc...   \n38  I do not have access to real-time information,...   \n39  Unfortunately, I cannot provide specific legal...   \n40  I do not have access to real-time information,...   \n41  I do not have access to real-time information,...   \n42  Google Play developers can see **limited infor...   \n43  I do not have access to real-time information,...   \n44  I do not have access to Amazon's internal algo...   \n45  I do not have access to real-time information,...   \n46  Facebook's policies on using the content you c...   \n47  I do not have access to the specific Terms and...   \n48  I cannot provide legal advice, and the Digital...   \n49  I do not have access to real-time information,...   \n\n                                          true_answer  eval_factuality  \\\n0    After a driver's account is closed, Bolt Head...                2   \n1   Shopify retains store information for two year...                2   \n2   Amazon states that they will not retain, use, ...                3   \n3    The Uber Terms of Service do not explicitly m...                3   \n4   If you are resident in the United Kingdom, you...                4   \n5   After the promotional period (Offer Period) en...                4   \n6   According to Instagram's policies, it can take...                4   \n7    AliExpress reserves the right to place restri...                3   \n8    If you purchase Azure services through a Micr...                3   \n9   Tradera automatically collects information sen...                3   \n10  MastodonAll requires all servers to give users...                1   \n11  Telegram clients are obligated to verify that ...                2   \n12  Qwant ranks news articles in the Qwant News se...                3   \n13  Zalando offers a voluntary 100-day return opti...                1   \n14  If you fail to pay your subscription charges o...                3   \n15  Temu offers a return and refund policy for all...                3   \n16  Fairbnb.coop collects internet-browsing techni...                1   \n17  No, Booking.com prohibits content that promote...                4   \n18  Yandex.Maps utilizes several data points to pe...                3   \n19  If you cancel your Shopify account, domain nam...                3   \n20  If a WeChat user repeatedly violates the Commu...                4   \n21  According to Libro's Subscription Agreement, i...                4   \n22  If your app violates the Telegram API Terms of...                4   \n23  Crunchbase provides access to information or d...                1   \n24  If you disagree with Google Maps' decision to ...                3   \n25   According to LinkedIn's User Agreement, all p...                3   \n26  If you wish to delete your hotel's content fro...                1   \n27  La PajaraCoopCycle collects certain informatio...                1   \n28  Local Services by Google may disclose informat...                1   \n29  Spotify allows embedded advertising in podcast...                2   \n30  Blacklane offers various communication channel...                3   \n31  TikTok employs age restrictions on mature cont...                4   \n32  Tradera reserves the right to close accounts t...                3   \n33  Except for specific circumstances outlined in ...                2   \n34  YouTube prohibits the promotion or sale of fir...                5   \n35  Mastodon.social retains the IP address associa...                1   \n36  Repeatedly violating the Code of Conduct in Im...                3   \n37  If you want to use Pinterest for commercial pu...                3   \n38  Yes, Lieferando.de offers sponsorship services...                2   \n39  The Preview Supplemental Terms include additio...                3   \n40  If a restaurant using MyTable Guest Center fai...                1   \n41  Mistral AI retains a user's prompts and output...                3   \n42  Google Play developers can see the user's name...                2   \n43  If you are using Snapchat on behalf of a busin...                3   \n44  Amazon's \"Featured\" search results prioritize ...                3   \n45  As an AliExpress Relevant Jurisdiction User, y...                2   \n46   Facebook requires users to grant a non-exclus...                4   \n47  OttoOtto's liability for data loss is limited ...                3   \n48  If you disagree with Google Maps' decision to ...                4   \n49  Houzz Pro's data importer (Houzz Inc.) agrees ...                1   \n\n    eval_relevance  eval_completeness  eval_clarity  eval_confidence  \\\n0                4                  2             5                3   \n1                3                  1             5                2   \n2                3                  2             4                2   \n3                4                  3             4                3   \n4                4                  3             5                3   \n5                4                  3             4                3   \n6                4                  3             5                3   \n7                4                  3             5                3   \n8                3                  3             4                2   \n9                4                  2             5                2   \n10               3                  2             5                2   \n11               3                  2             4                3   \n12               3                  3             4                3   \n13               5                  1             5                1   \n14               4                  3             5                2   \n15               5                  2             5                3   \n16               2                  1             5                1   \n17               5                  3             3                4   \n18               4                  2             5                3   \n19               3                  3             4                3   \n20               3                  4             5                4   \n21               4                  3             5                4   \n22               4                  3             5                3   \n23               2                  1             4                2   \n24               4                  2             4                2   \n25               3                  3             5                3   \n26               3                  2             5                1   \n27               2                  1             5                3   \n28               4                  1             5                1   \n29               3                  2             4                2   \n30               3                  2             4                2   \n31               4                  4             5                4   \n32               3                  2             5                3   \n33               4                  2             5                1   \n34               5                  4             5                5   \n35               1                  1             5                1   \n36               3                  2             4                2   \n37               3                  3             4                3   \n38               3                  2             4                2   \n39               4                  3             5                3   \n40               2                  1             4                1   \n41               4                  3             5                2   \n42               5                  3             4                2   \n43               4                  2             5                2   \n44               3                  3             4                3   \n45               3                  2             4                2   \n46               5                  3             5                4   \n47               5                  3             5                4   \n48               4                  3             4                3   \n49               3                  1             4                1   \n\n   eval_correctness                                      eval_feedback  \n0         Incorrect  Feedback: The response correctly indicates tha...  \n1         Incorrect  Feedback: The response is accurate in stating ...  \n2         Incorrect  Feedback: The response correctly points out it...  \n3         Incorrect  Feedback: The response provides useful informa...  \n4         Incorrect  Feedback: The response provides the correct co...  \n5         Incorrect  Feedback: The response is factually accurate i...  \n6         Incorrect  Feedback: The response accurately states that ...  \n7         Incorrect  Feedback: The response accurately states that ...  \n8         Incorrect  Feedback: The response is helpful in providing...  \n9         Incorrect  Feedback: The response is accurate in acknowle...  \n10        Incorrect  Feedback: The response is factually incorrect,...  \n11        Incorrect  Feedback: The response fails to provide the sp...  \n12        Incorrect  Feedback: The response provides some general i...  \n13        Incorrect  Feedback: The response is completely incorrect...  \n14        Incorrect  Feedback: The response correctly acknowledges ...  \n15        Incorrect  Feedback: The response accurately acknowledges...  \n16        Incorrect  Feedback: The response correctly states that i...  \n17          Correct  Feedback: The response accurately conveys that...  \n18        Incorrect  Feedback: The response does not provide a comp...  \n19        Incorrect  Feedback: The response provides general inform...  \n20          Correct  Feedback: The response is a bit too detailed a...  \n21        Incorrect  Feedback: The response is factually correct in...  \n22        Incorrect  Feedback: The response is mostly accurate in i...  \n23        Incorrect  Feedback: The response correctly identifies th...  \n24        Incorrect  Feedback: The response provides information th...  \n25        Incorrect  Feedback: The response does not directly answe...  \n26        Incorrect  Feedback: The response is factually incorrect ...  \n27        Incorrect  Feedback: The response is honest in its inabil...  \n28        Incorrect  Feedback: The response correctly states that i...  \n29        Incorrect  Feedback: The response is inaccurate and prese...  \n30        Incorrect  Feedback: The response acknowledges the limita...  \n31        Incorrect  Feedback: The response provides a detailed ove...  \n32        Incorrect  Feedback: The response correctly states that i...  \n33        Incorrect  Feedback: The response accurately acknowledges...  \n34          Correct  Feedback: The response provides a detailed ove...  \n35        Incorrect  Feedback: The response is entirely unhelpful a...  \n36        Incorrect  Feedback: The response provides some generic i...  \n37        Incorrect  Feedback: The response provides a general over...  \n38        Incorrect  Feedback: The response provides a general stat...  \n39        Incorrect  Feedback: The response provides helpful genera...  \n40        Incorrect  Feedback: The response does not provide factua...  \n41        Incorrect  Feedback: The response accurately reflects the...  \n42        Incorrect  Feedback: The response provides some informati...  \n43        Incorrect  Feedback: The response correctly states that i...  \n44        Incorrect  Feedback: The response provides a general over...  \n45        Incorrect  Feedback: The response provides general advice...  \n46          Correct  Feedback: The response does a good job of summ...  \n47        Incorrect  Feedback: The response is unable to provide th...  \n48        Incorrect  Feedback: The response provides some accurate ...  \n49        Incorrect  Feedback: The response is not factually accura...  ",
      "text/html": "<div>\n<style scoped>\n    .dataframe tbody tr th:only-of-type {\n        vertical-align: middle;\n    }\n\n    .dataframe tbody tr th {\n        vertical-align: top;\n    }\n\n    .dataframe thead th {\n        text-align: right;\n    }\n</style>\n<table border=\"1\" class=\"dataframe\">\n  <thead>\n    <tr style=\"text-align: right;\">\n      <th></th>\n      <th>question</th>\n      <th>generated_answer</th>\n      <th>true_answer</th>\n      <th>eval_factuality</th>\n      <th>eval_relevance</th>\n      <th>eval_completeness</th>\n      <th>eval_clarity</th>\n      <th>eval_confidence</th>\n      <th>eval_correctness</th>\n      <th>eval_feedback</th>\n    </tr>\n  </thead>\n  <tbody>\n    <tr>\n      <th>0</th>\n      <td>What is the policy on retaining driver data a...</td>\n      <td>I do not have access to real-time information,...</td>\n      <td>After a driver's account is closed, Bolt Head...</td>\n      <td>2</td>\n      <td>4</td>\n      <td>2</td>\n      <td>5</td>\n      <td>3</td>\n      <td>Incorrect</td>\n      <td>Feedback: The response correctly indicates tha...</td>\n    </tr>\n    <tr>\n      <th>1</th>\n      <td>How long does Shopify keep store information ...</td>\n      <td>Unfortunately, I do not have access to private...</td>\n      <td>Shopify retains store information for two year...</td>\n      <td>2</td>\n      <td>3</td>\n      <td>1</td>\n      <td>5</td>\n      <td>2</td>\n      <td>Incorrect</td>\n      <td>Feedback: The response is accurate in stating ...</td>\n    </tr>\n    <tr>\n      <th>2</th>\n      <td>What is Amazon's policy regarding the storage...</td>\n      <td>I do not have access to real-time information,...</td>\n      <td>Amazon states that they will not retain, use, ...</td>\n      <td>3</td>\n      <td>3</td>\n      <td>2</td>\n      <td>4</td>\n      <td>2</td>\n      <td>Incorrect</td>\n      <td>Feedback: The response correctly points out it...</td>\n    </tr>\n    <tr>\n      <th>3</th>\n      <td>What is the policy on returns in Uber?\\n</td>\n      <td>I do not have access to real-time information,...</td>\n      <td>The Uber Terms of Service do not explicitly m...</td>\n      <td>3</td>\n      <td>4</td>\n      <td>3</td>\n      <td>4</td>\n      <td>3</td>\n      <td>Incorrect</td>\n      <td>Feedback: The response provides useful informa...</td>\n    </tr>\n    <tr>\n      <th>4</th>\n      <td>What company am I contracting with when I use...</td>\n      <td>If you are a resident of the UK and use TikTok...</td>\n      <td>If you are resident in the United Kingdom, you...</td>\n      <td>4</td>\n      <td>4</td>\n      <td>3</td>\n      <td>5</td>\n      <td>3</td>\n      <td>Incorrect</td>\n      <td>Feedback: The response provides the correct co...</td>\n    </tr>\n    <tr>\n      <th>5</th>\n      <td>What happens to my Google One membership afte...</td>\n      <td>I do not have access to real-time information,...</td>\n      <td>After the promotional period (Offer Period) en...</td>\n      <td>4</td>\n      <td>4</td>\n      <td>3</td>\n      <td>4</td>\n      <td>3</td>\n      <td>Incorrect</td>\n      <td>Feedback: The response is factually accurate i...</td>\n    </tr>\n    <tr>\n      <th>6</th>\n      <td>What is the maximum time it can take for Inst...</td>\n      <td>Unfortunately, Instagram doesn't explicitly st...</td>\n      <td>According to Instagram's policies, it can take...</td>\n      <td>4</td>\n      <td>4</td>\n      <td>3</td>\n      <td>5</td>\n      <td>3</td>\n      <td>Incorrect</td>\n      <td>Feedback: The response accurately states that ...</td>\n    </tr>\n    <tr>\n      <th>7</th>\n      <td>What is the policy on the number of product l...</td>\n      <td>Unfortunately, I do not have access to real-ti...</td>\n      <td>AliExpress reserves the right to place restri...</td>\n      <td>3</td>\n      <td>4</td>\n      <td>3</td>\n      <td>5</td>\n      <td>3</td>\n      <td>Incorrect</td>\n      <td>Feedback: The response accurately states that ...</td>\n    </tr>\n    <tr>\n      <th>8</th>\n      <td>What are the governing terms and conditions f...</td>\n      <td>While I can provide general information about ...</td>\n      <td>If you purchase Azure services through a Micr...</td>\n      <td>3</td>\n      <td>3</td>\n      <td>3</td>\n      <td>4</td>\n      <td>2</td>\n      <td>Incorrect</td>\n      <td>Feedback: The response is helpful in providing...</td>\n    </tr>\n    <tr>\n      <th>9</th>\n      <td>What kind of data does Tradera collect automa...</td>\n      <td>I do not have access to real-time information,...</td>\n      <td>Tradera automatically collects information sen...</td>\n      <td>3</td>\n      <td>4</td>\n      <td>2</td>\n      <td>5</td>\n      <td>2</td>\n      <td>Incorrect</td>\n      <td>Feedback: The response is accurate in acknowle...</td>\n    </tr>\n    <tr>\n      <th>10</th>\n      <td>What is the policy regarding server shutdowns...</td>\n      <td>I do not have access to the specific Terms and...</td>\n      <td>MastodonAll requires all servers to give users...</td>\n      <td>1</td>\n      <td>3</td>\n      <td>2</td>\n      <td>5</td>\n      <td>2</td>\n      <td>Incorrect</td>\n      <td>Feedback: The response is factually incorrect,...</td>\n    </tr>\n    <tr>\n      <th>11</th>\n      <td>What are the requirements for Telegram client...</td>\n      <td>I can't give you specific technical details on...</td>\n      <td>Telegram clients are obligated to verify that ...</td>\n      <td>2</td>\n      <td>3</td>\n      <td>2</td>\n      <td>4</td>\n      <td>3</td>\n      <td>Incorrect</td>\n      <td>Feedback: The response fails to provide the sp...</td>\n    </tr>\n    <tr>\n      <th>12</th>\n      <td>How does Qwant rank the news articles display...</td>\n      <td>Unfortunately, Qwant does not publicly disclos...</td>\n      <td>Qwant ranks news articles in the Qwant News se...</td>\n      <td>3</td>\n      <td>3</td>\n      <td>3</td>\n      <td>4</td>\n      <td>3</td>\n      <td>Incorrect</td>\n      <td>Feedback: The response provides some general i...</td>\n    </tr>\n    <tr>\n      <th>13</th>\n      <td>What is Zalando's policy on returning items p...</td>\n      <td>I do not have access to real-time information,...</td>\n      <td>Zalando offers a voluntary 100-day return opti...</td>\n      <td>1</td>\n      <td>5</td>\n      <td>1</td>\n      <td>5</td>\n      <td>1</td>\n      <td>Incorrect</td>\n      <td>Feedback: The response is completely incorrect...</td>\n    </tr>\n    <tr>\n      <th>14</th>\n      <td>What are the consequences of failing to pay s...</td>\n      <td>I do not have access to real-time information,...</td>\n      <td>If you fail to pay your subscription charges o...</td>\n      <td>3</td>\n      <td>4</td>\n      <td>3</td>\n      <td>5</td>\n      <td>2</td>\n      <td>Incorrect</td>\n      <td>Feedback: The response correctly acknowledges ...</td>\n    </tr>\n    <tr>\n      <th>15</th>\n      <td>What is Temu's policy on returns and refunds?...</td>\n      <td>I do not have access to real-time information,...</td>\n      <td>Temu offers a return and refund policy for all...</td>\n      <td>3</td>\n      <td>5</td>\n      <td>2</td>\n      <td>5</td>\n      <td>3</td>\n      <td>Incorrect</td>\n      <td>Feedback: The response accurately acknowledges...</td>\n    </tr>\n    <tr>\n      <th>16</th>\n      <td>What data does Fairbnb.coop collect from user...</td>\n      <td>I do not have access to real-time information,...</td>\n      <td>Fairbnb.coop collects internet-browsing techni...</td>\n      <td>1</td>\n      <td>2</td>\n      <td>1</td>\n      <td>5</td>\n      <td>1</td>\n      <td>Incorrect</td>\n      <td>Feedback: The response correctly states that i...</td>\n    </tr>\n    <tr>\n      <th>17</th>\n      <td>Does Booking.com allow content that promotes ...</td>\n      <td>Booking.com's Terms and Conditions are quite c...</td>\n      <td>No, Booking.com prohibits content that promote...</td>\n      <td>4</td>\n      <td>5</td>\n      <td>3</td>\n      <td>3</td>\n      <td>4</td>\n      <td>Correct</td>\n      <td>Feedback: The response accurately conveys that...</td>\n    </tr>\n    <tr>\n      <th>18</th>\n      <td>What information does Yandex.Maps use to pers...</td>\n      <td>Unfortunately, I do not have access to the spe...</td>\n      <td>Yandex.Maps utilizes several data points to pe...</td>\n      <td>3</td>\n      <td>4</td>\n      <td>2</td>\n      <td>5</td>\n      <td>3</td>\n      <td>Incorrect</td>\n      <td>Feedback: The response does not provide a comp...</td>\n    </tr>\n    <tr>\n      <th>19</th>\n      <td>What happens to domain names purchased throug...</td>\n      <td>Unfortunately, I can't provide specific legal ...</td>\n      <td>If you cancel your Shopify account, domain nam...</td>\n      <td>3</td>\n      <td>3</td>\n      <td>3</td>\n      <td>4</td>\n      <td>3</td>\n      <td>Incorrect</td>\n      <td>Feedback: The response provides general inform...</td>\n    </tr>\n    <tr>\n      <th>20</th>\n      <td>What happens to a WeChat user's account if th...</td>\n      <td>WeChat's Community Guidelines are very strict ...</td>\n      <td>If a WeChat user repeatedly violates the Commu...</td>\n      <td>4</td>\n      <td>3</td>\n      <td>4</td>\n      <td>5</td>\n      <td>4</td>\n      <td>Correct</td>\n      <td>Feedback: The response is a bit too detailed a...</td>\n    </tr>\n    <tr>\n      <th>21</th>\n      <td>What is the policy on refunding payments if I...</td>\n      <td>I do not have access to real-time information,...</td>\n      <td>According to Libro's Subscription Agreement, i...</td>\n      <td>4</td>\n      <td>4</td>\n      <td>3</td>\n      <td>5</td>\n      <td>4</td>\n      <td>Incorrect</td>\n      <td>Feedback: The response is factually correct in...</td>\n    </tr>\n    <tr>\n      <th>22</th>\n      <td>What are the consequences of violating the Te...</td>\n      <td>I cannot provide specific legal advice, includ...</td>\n      <td>If your app violates the Telegram API Terms of...</td>\n      <td>4</td>\n      <td>4</td>\n      <td>3</td>\n      <td>5</td>\n      <td>3</td>\n      <td>Incorrect</td>\n      <td>Feedback: The response is mostly accurate in i...</td>\n    </tr>\n    <tr>\n      <th>23</th>\n      <td>What is Crunchbase's policy on the use of AI-...</td>\n      <td>I do not have access to real-time information,...</td>\n      <td>Crunchbase provides access to information or d...</td>\n      <td>1</td>\n      <td>2</td>\n      <td>1</td>\n      <td>4</td>\n      <td>2</td>\n      <td>Incorrect</td>\n      <td>Feedback: The response correctly identifies th...</td>\n    </tr>\n    <tr>\n      <th>24</th>\n      <td>What happens if I disagree with Google Maps' ...</td>\n      <td>I understand your concern. Unfortunately, I ca...</td>\n      <td>If you disagree with Google Maps' decision to ...</td>\n      <td>3</td>\n      <td>4</td>\n      <td>2</td>\n      <td>4</td>\n      <td>2</td>\n      <td>Incorrect</td>\n      <td>Feedback: The response provides information th...</td>\n    </tr>\n    <tr>\n      <th>25</th>\n      <td>What is the policy on refunds for LinkedIn Pr...</td>\n      <td>I do not have access to real-time information,...</td>\n      <td>According to LinkedIn's User Agreement, all p...</td>\n      <td>3</td>\n      <td>3</td>\n      <td>3</td>\n      <td>5</td>\n      <td>3</td>\n      <td>Incorrect</td>\n      <td>Feedback: The response does not directly answe...</td>\n    </tr>\n    <tr>\n      <th>26</th>\n      <td>What is TRIVAGO's policy on the deletion of m...</td>\n      <td>I do not have access to real-time information,...</td>\n      <td>If you wish to delete your hotel's content fro...</td>\n      <td>1</td>\n      <td>3</td>\n      <td>2</td>\n      <td>5</td>\n      <td>1</td>\n      <td>Incorrect</td>\n      <td>Feedback: The response is factually incorrect ...</td>\n    </tr>\n    <tr>\n      <th>27</th>\n      <td>What is the policy on user data collection at...</td>\n      <td>I do not have access to the internet to retrie...</td>\n      <td>La PajaraCoopCycle collects certain informatio...</td>\n      <td>1</td>\n      <td>2</td>\n      <td>1</td>\n      <td>5</td>\n      <td>3</td>\n      <td>Incorrect</td>\n      <td>Feedback: The response is honest in its inabil...</td>\n    </tr>\n    <tr>\n      <th>28</th>\n      <td>What is the policy on disclosing information ...</td>\n      <td>I do not have access to real-time information,...</td>\n      <td>Local Services by Google may disclose informat...</td>\n      <td>1</td>\n      <td>4</td>\n      <td>1</td>\n      <td>5</td>\n      <td>1</td>\n      <td>Incorrect</td>\n      <td>Feedback: The response correctly states that i...</td>\n    </tr>\n    <tr>\n      <th>29</th>\n      <td>What are Spotify's policies on content contai...</td>\n      <td>Spotify's official policy on embedded advertis...</td>\n      <td>Spotify allows embedded advertising in podcast...</td>\n      <td>2</td>\n      <td>3</td>\n      <td>2</td>\n      <td>4</td>\n      <td>2</td>\n      <td>Incorrect</td>\n      <td>Feedback: The response is inaccurate and prese...</td>\n    </tr>\n    <tr>\n      <th>30</th>\n      <td>What are the different ways a user can commun...</td>\n      <td>I do not have access to real-time information,...</td>\n      <td>Blacklane offers various communication channel...</td>\n      <td>3</td>\n      <td>3</td>\n      <td>2</td>\n      <td>4</td>\n      <td>2</td>\n      <td>Incorrect</td>\n      <td>Feedback: The response acknowledges the limita...</td>\n    </tr>\n    <tr>\n      <th>31</th>\n      <td>What are TikTok's policies on content that mi...</td>\n      <td>TikTok has a robust set of policies designed t...</td>\n      <td>TikTok employs age restrictions on mature cont...</td>\n      <td>4</td>\n      <td>4</td>\n      <td>4</td>\n      <td>5</td>\n      <td>4</td>\n      <td>Incorrect</td>\n      <td>Feedback: The response provides a detailed ove...</td>\n    </tr>\n    <tr>\n      <th>32</th>\n      <td>What is the policy on closing accounts in Tra...</td>\n      <td>I do not have access to real-time information,...</td>\n      <td>Tradera reserves the right to close accounts t...</td>\n      <td>3</td>\n      <td>3</td>\n      <td>2</td>\n      <td>5</td>\n      <td>3</td>\n      <td>Incorrect</td>\n      <td>Feedback: The response correctly states that i...</td>\n    </tr>\n    <tr>\n      <th>33</th>\n      <td>What is the policy on refunds for Alibaba.com...</td>\n      <td>I do not have access to real-time information,...</td>\n      <td>Except for specific circumstances outlined in ...</td>\n      <td>2</td>\n      <td>4</td>\n      <td>2</td>\n      <td>5</td>\n      <td>1</td>\n      <td>Incorrect</td>\n      <td>Feedback: The response accurately acknowledges...</td>\n    </tr>\n    <tr>\n      <th>34</th>\n      <td>What are YouTube's guidelines on posting cont...</td>\n      <td>YouTube has strict guidelines regarding conten...</td>\n      <td>YouTube prohibits the promotion or sale of fir...</td>\n      <td>5</td>\n      <td>5</td>\n      <td>4</td>\n      <td>5</td>\n      <td>5</td>\n      <td>Correct</td>\n      <td>Feedback: The response provides a detailed ove...</td>\n    </tr>\n    <tr>\n      <th>35</th>\n      <td>What information about my account activity ca...</td>\n      <td>I do not have access to the specific details o...</td>\n      <td>Mastodon.social retains the IP address associa...</td>\n      <td>1</td>\n      <td>1</td>\n      <td>1</td>\n      <td>5</td>\n      <td>1</td>\n      <td>Incorrect</td>\n      <td>Feedback: The response is entirely unhelpful a...</td>\n    </tr>\n    <tr>\n      <th>36</th>\n      <td>What happens if I repeatedly violate the Code...</td>\n      <td>I do not have access to real-time information,...</td>\n      <td>Repeatedly violating the Code of Conduct in Im...</td>\n      <td>3</td>\n      <td>3</td>\n      <td>2</td>\n      <td>4</td>\n      <td>2</td>\n      <td>Incorrect</td>\n      <td>Feedback: The response provides some generic i...</td>\n    </tr>\n    <tr>\n      <th>37</th>\n      <td>What is the policy on using Pinterest for com...</td>\n      <td>Pinterest's Terms of Service allow for commerc...</td>\n      <td>If you want to use Pinterest for commercial pu...</td>\n      <td>3</td>\n      <td>3</td>\n      <td>3</td>\n      <td>4</td>\n      <td>3</td>\n      <td>Incorrect</td>\n      <td>Feedback: The response provides a general over...</td>\n    </tr>\n    <tr>\n      <th>38</th>\n      <td>Does Lieferando.de use paid advertising to in...</td>\n      <td>I do not have access to real-time information,...</td>\n      <td>Yes, Lieferando.de offers sponsorship services...</td>\n      <td>2</td>\n      <td>3</td>\n      <td>2</td>\n      <td>4</td>\n      <td>2</td>\n      <td>Incorrect</td>\n      <td>Feedback: The response provides a general stat...</td>\n    </tr>\n    <tr>\n      <th>39</th>\n      <td>What are the terms and conditions governing t...</td>\n      <td>Unfortunately, I cannot provide specific legal...</td>\n      <td>The Preview Supplemental Terms include additio...</td>\n      <td>3</td>\n      <td>4</td>\n      <td>3</td>\n      <td>5</td>\n      <td>3</td>\n      <td>Incorrect</td>\n      <td>Feedback: The response provides helpful genera...</td>\n    </tr>\n    <tr>\n      <th>40</th>\n      <td>What happens if a restaurant using MyTable Gu...</td>\n      <td>I do not have access to real-time information,...</td>\n      <td>If a restaurant using MyTable Guest Center fai...</td>\n      <td>1</td>\n      <td>2</td>\n      <td>1</td>\n      <td>4</td>\n      <td>1</td>\n      <td>Incorrect</td>\n      <td>Feedback: The response does not provide factua...</td>\n    </tr>\n    <tr>\n      <th>41</th>\n      <td>What is Mistral AI’s policy on user data rete...</td>\n      <td>I do not have access to real-time information,...</td>\n      <td>Mistral AI retains a user's prompts and output...</td>\n      <td>3</td>\n      <td>4</td>\n      <td>3</td>\n      <td>5</td>\n      <td>2</td>\n      <td>Incorrect</td>\n      <td>Feedback: The response accurately reflects the...</td>\n    </tr>\n    <tr>\n      <th>42</th>\n      <td>What information about users who write review...</td>\n      <td>Google Play developers can see **limited infor...</td>\n      <td>Google Play developers can see the user's name...</td>\n      <td>2</td>\n      <td>5</td>\n      <td>3</td>\n      <td>4</td>\n      <td>2</td>\n      <td>Incorrect</td>\n      <td>Feedback: The response provides some informati...</td>\n    </tr>\n    <tr>\n      <th>43</th>\n      <td>What is the policy on using Snapchat if I am ...</td>\n      <td>I do not have access to real-time information,...</td>\n      <td>If you are using Snapchat on behalf of a busin...</td>\n      <td>3</td>\n      <td>4</td>\n      <td>2</td>\n      <td>5</td>\n      <td>2</td>\n      <td>Incorrect</td>\n      <td>Feedback: The response correctly states that i...</td>\n    </tr>\n    <tr>\n      <th>44</th>\n      <td>What factors does Amazon consider when choosi...</td>\n      <td>I do not have access to Amazon's internal algo...</td>\n      <td>Amazon's \"Featured\" search results prioritize ...</td>\n      <td>3</td>\n      <td>3</td>\n      <td>3</td>\n      <td>4</td>\n      <td>3</td>\n      <td>Incorrect</td>\n      <td>Feedback: The response provides a general over...</td>\n    </tr>\n    <tr>\n      <th>45</th>\n      <td>What is the policy on returning products purc...</td>\n      <td>I do not have access to real-time information,...</td>\n      <td>As an AliExpress Relevant Jurisdiction User, y...</td>\n      <td>2</td>\n      <td>3</td>\n      <td>2</td>\n      <td>4</td>\n      <td>2</td>\n      <td>Incorrect</td>\n      <td>Feedback: The response provides general advice...</td>\n    </tr>\n    <tr>\n      <th>46</th>\n      <td>What are Facebook's policies on using content...</td>\n      <td>Facebook's policies on using the content you c...</td>\n      <td>Facebook requires users to grant a non-exclus...</td>\n      <td>4</td>\n      <td>5</td>\n      <td>3</td>\n      <td>5</td>\n      <td>4</td>\n      <td>Correct</td>\n      <td>Feedback: The response does a good job of summ...</td>\n    </tr>\n    <tr>\n      <th>47</th>\n      <td>What is OttoOtto's liability policy if a reta...</td>\n      <td>I do not have access to the specific Terms and...</td>\n      <td>OttoOtto's liability for data loss is limited ...</td>\n      <td>3</td>\n      <td>5</td>\n      <td>3</td>\n      <td>5</td>\n      <td>4</td>\n      <td>Incorrect</td>\n      <td>Feedback: The response is unable to provide th...</td>\n    </tr>\n    <tr>\n      <th>48</th>\n      <td>What happens if I disagree with Google Maps' ...</td>\n      <td>I cannot provide legal advice, and the Digital...</td>\n      <td>If you disagree with Google Maps' decision to ...</td>\n      <td>4</td>\n      <td>4</td>\n      <td>3</td>\n      <td>4</td>\n      <td>3</td>\n      <td>Incorrect</td>\n      <td>Feedback: The response provides some accurate ...</td>\n    </tr>\n    <tr>\n      <th>49</th>\n      <td>What is Houzz Pro's policy on disclosing pers...</td>\n      <td>I do not have access to real-time information,...</td>\n      <td>Houzz Pro's data importer (Houzz Inc.) agrees ...</td>\n      <td>1</td>\n      <td>3</td>\n      <td>1</td>\n      <td>4</td>\n      <td>1</td>\n      <td>Incorrect</td>\n      <td>Feedback: The response is not factually accura...</td>\n    </tr>\n  </tbody>\n</table>\n</div>"
     },
     "execution_count": 20,
     "metadata": {},
     "output_type": "execute_result"
    }
   ],
   "source": [
    "file_path = 'responses.xlsx'\n",
    "testset = load_test_set(file_path, rag_flag=False)\n",
    "evaluation = pd.DataFrame(evaluate(testset, evaluator))\n",
    "evaluation"
   ],
   "metadata": {
    "collapsed": false,
    "ExecuteTime": {
     "end_time": "2024-10-25T14:15:06.362905Z",
     "start_time": "2024-10-25T14:09:15.476543Z"
    }
   },
   "id": "4d4dbdef1be1d491",
   "execution_count": 20
  },
  {
   "cell_type": "code",
   "outputs": [],
   "source": [
    "test_name = 'direct_spacy_gemini_basic'\n",
    "evaluation.to_csv(f\"{test_name}_evaluation.csv\", index=False)"
   ],
   "metadata": {
    "collapsed": false,
    "ExecuteTime": {
     "end_time": "2024-10-25T13:43:27.242224Z",
     "start_time": "2024-10-25T13:43:27.233718Z"
    }
   },
   "id": "bd3c4aeac2e29bba",
   "execution_count": 10
  },
  {
   "cell_type": "code",
   "outputs": [],
   "source": [
    "# compute accuracy, precision, recall, f1 score\n",
    "def compute_accuracy(evaluation):\n",
    "    correct = evaluation[evaluation[\"eval_correctness\"] == \"Correct\"]\n",
    "    total = len(evaluation)\n",
    "    correct_count = len(correct)\n",
    "    return correct_count / total"
   ],
   "metadata": {
    "collapsed": false,
    "ExecuteTime": {
     "end_time": "2024-10-16T20:08:28.976258Z",
     "start_time": "2024-10-16T20:08:28.972032Z"
    }
   },
   "id": "ab653941fd9844e1",
   "execution_count": 150
  },
  {
   "cell_type": "code",
   "outputs": [
    {
     "name": "stdout",
     "output_type": "stream",
     "text": [
      "Accuracy: 0.25\n",
      "Average Factuality Score: 3.25/5\n",
      "Average Relevance Score: 4.25/5\n",
      "Average Completeness Score: 3.5/5\n",
      "Average Clarity Score: 4.5/5\n",
      "Average Confidence Score: 3.25/5\n",
      "Overall Average Score: 3.75/5\n"
     ]
    }
   ],
   "source": [
    "print(f\"Accuracy: {compute_accuracy(evaluation)}\")\n",
    "# print avg scores\n",
    "\n",
    "print(f\"Average Factuality Score: {evaluation['eval_factuality'].mean()}/5\")\n",
    "print(f\"Average Relevance Score: {evaluation['eval_relevance'].mean()}/5\")\n",
    "print(f\"Average Completeness Score: {evaluation['eval_completeness'].mean()}/5\")\n",
    "print(f\"Average Clarity Score: {evaluation['eval_clarity'].mean()}/5\")\n",
    "print(f\"Average Confidence Score: {evaluation['eval_confidence'].mean()}/5\")\n"
   ],
   "metadata": {
    "collapsed": false,
    "ExecuteTime": {
     "end_time": "2024-10-16T20:47:34.893208Z",
     "start_time": "2024-10-16T20:47:34.884888Z"
    }
   },
   "id": "91a26c640fa6a98d",
   "execution_count": 170
  },
  {
   "cell_type": "code",
   "outputs": [],
   "source": [],
   "metadata": {
    "collapsed": false
   },
   "id": "cd5f96b69744801e"
  }
 ],
 "metadata": {
  "kernelspec": {
   "display_name": "Python 3",
   "language": "python",
   "name": "python3"
  },
  "language_info": {
   "codemirror_mode": {
    "name": "ipython",
    "version": 2
   },
   "file_extension": ".py",
   "mimetype": "text/x-python",
   "name": "python",
   "nbconvert_exporter": "python",
   "pygments_lexer": "ipython2",
   "version": "2.7.6"
  }
 },
 "nbformat": 4,
 "nbformat_minor": 5
}
